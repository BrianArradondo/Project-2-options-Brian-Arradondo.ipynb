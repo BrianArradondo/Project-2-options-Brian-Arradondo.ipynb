{
  "nbformat": 4,
  "nbformat_minor": 0,
  "metadata": {
    "colab": {
      "provenance": [],
      "mount_file_id": "1mDfiXpik9a4fG-L9XEVB_Y8NocLQ5eAp",
      "authorship_tag": "ABX9TyMqA0l3+zT+jhlffTRg0N5w",
      "include_colab_link": true
    },
    "kernelspec": {
      "name": "python3",
      "display_name": "Python 3"
    },
    "language_info": {
      "name": "python"
    }
  },
  "cells": [
    {
      "cell_type": "markdown",
      "metadata": {
        "id": "view-in-github",
        "colab_type": "text"
      },
      "source": [
        "<a href=\"https://colab.research.google.com/github/BrianArradondo/Project-2-options-Brian-Arradondo.ipynb/blob/main/Project_2_Adult_Income_Brian_Arradondo.ipynb\" target=\"_parent\"><img src=\"https://colab.research.google.com/assets/colab-badge.svg\" alt=\"Open In Colab\"/></a>"
      ]
    },
    {
      "cell_type": "markdown",
      "source": [
        "##Adult Income DataSet\n",
        "1. Kaggle was the Source of data\n",
        "\n",
        "2. Brief description of data - The data describes the features related to adult incomes.\n",
        "\n",
        "3. What is the target? income is the target.\n",
        "\n",
        "4. What does one row represent? One row represents education\n",
        "\n",
        "5. Is this a classification or regression problem? This is a regression problem.\n",
        "\n",
        "6. How many features does the data have? This has 488842 entries and 14 rows.\n",
        "\n",
        "7. How many rows are in the dataset? 14 rows.\n",
        "\n",
        "8. What, if any, challenges do you foresee in cleaning, exploring, or modeling this dataset? I don't foresee any challenges in this dataset.\n",
        "---"
      ],
      "metadata": {
        "id": "EEQPPYIBWXcR"
      }
    },
    {
      "cell_type": "markdown",
      "source": [
        "**To meet the requirements for this week you must have:**\n",
        "\n",
        "**Deleted unnecessary columns.**\n",
        "1. Deleted duplicate rows.\n",
        "2. Identified and addressed missing values.\n",
        "3. Identified and corrected inconsistencies in data for categorical values (i.e. Cat, cat, cats).\n",
        "4. Produced univariate visuals for the target and all features.\n",
        "5. Identified outliers.\n",
        "6. Clearly commented all of your cleaning steps and described any decisions you made.\n",
        "7. Commit your file to your Github repository and submit the link below.\n",
        "---"
      ],
      "metadata": {
        "id": "4o-_VuuRX1bi"
      }
    },
    {
      "cell_type": "markdown",
      "source": [
        "# Import Libraries"
      ],
      "metadata": {
        "id": "SHxEdmo4Wn8F"
      }
    },
    {
      "cell_type": "code",
      "execution_count": 113,
      "metadata": {
        "id": "kRw1JdyrWMzT"
      },
      "outputs": [],
      "source": [
        "import pandas as pd\n",
        "import numpy as np\n",
        "import matplotlib.pyplot as plt\n",
        "import seaborn as sns\n",
        "import warnings \n",
        "warnings.filterwarnings(\"ignore\") # Prevents visual warnings and ignores them"
      ]
    },
    {
      "cell_type": "code",
      "source": [
        "df = pd.read_csv(\"/content/drive/MyDrive/Colab Notebooks/Project 2 Adult income Dataset.csv\")\n",
        "df.head(10)"
      ],
      "metadata": {
        "colab": {
          "base_uri": "https://localhost:8080/",
          "height": 722
        },
        "id": "BYif4KlTWt63",
        "outputId": "f765b979-9997-4c3b-c7d3-698e5fc2d124"
      },
      "execution_count": 114,
      "outputs": [
        {
          "output_type": "execute_result",
          "data": {
            "text/plain": [
              "   age         workclass  fnlwgt     education  educational-num  \\\n",
              "0   25           Private  226802          11th                7   \n",
              "1   38           Private   89814       HS-grad                9   \n",
              "2   28         Local-gov  336951    Assoc-acdm               12   \n",
              "3   44           Private  160323  Some-college               10   \n",
              "4   18                 ?  103497  Some-college               10   \n",
              "5   34           Private  198693          10th                6   \n",
              "6   29                 ?  227026       HS-grad                9   \n",
              "7   63  Self-emp-not-inc  104626   Prof-school               15   \n",
              "8   24           Private  369667  Some-college               10   \n",
              "9   55           Private  104996       7th-8th                4   \n",
              "\n",
              "       marital-status         occupation   relationship   race  gender  \\\n",
              "0       Never-married  Machine-op-inspct      Own-child  Black    Male   \n",
              "1  Married-civ-spouse    Farming-fishing        Husband  White    Male   \n",
              "2  Married-civ-spouse    Protective-serv        Husband  White    Male   \n",
              "3  Married-civ-spouse  Machine-op-inspct        Husband  Black    Male   \n",
              "4       Never-married                  ?      Own-child  White  Female   \n",
              "5       Never-married      Other-service  Not-in-family  White    Male   \n",
              "6       Never-married                  ?      Unmarried  Black    Male   \n",
              "7  Married-civ-spouse     Prof-specialty        Husband  White    Male   \n",
              "8       Never-married      Other-service      Unmarried  White  Female   \n",
              "9  Married-civ-spouse       Craft-repair        Husband  White    Male   \n",
              "\n",
              "   capital-gain  capital-loss  hours-per-week native-country income  \n",
              "0             0             0              40  United-States  <=50K  \n",
              "1             0             0              50  United-States  <=50K  \n",
              "2             0             0              40  United-States   >50K  \n",
              "3          7688             0              40  United-States   >50K  \n",
              "4             0             0              30  United-States  <=50K  \n",
              "5             0             0              30  United-States  <=50K  \n",
              "6             0             0              40  United-States  <=50K  \n",
              "7          3103             0              32  United-States   >50K  \n",
              "8             0             0              40  United-States  <=50K  \n",
              "9             0             0              10  United-States  <=50K  "
            ],
            "text/html": [
              "\n",
              "  <div id=\"df-0a48a3cb-4695-419c-b97d-8de134ff1901\">\n",
              "    <div class=\"colab-df-container\">\n",
              "      <div>\n",
              "<style scoped>\n",
              "    .dataframe tbody tr th:only-of-type {\n",
              "        vertical-align: middle;\n",
              "    }\n",
              "\n",
              "    .dataframe tbody tr th {\n",
              "        vertical-align: top;\n",
              "    }\n",
              "\n",
              "    .dataframe thead th {\n",
              "        text-align: right;\n",
              "    }\n",
              "</style>\n",
              "<table border=\"1\" class=\"dataframe\">\n",
              "  <thead>\n",
              "    <tr style=\"text-align: right;\">\n",
              "      <th></th>\n",
              "      <th>age</th>\n",
              "      <th>workclass</th>\n",
              "      <th>fnlwgt</th>\n",
              "      <th>education</th>\n",
              "      <th>educational-num</th>\n",
              "      <th>marital-status</th>\n",
              "      <th>occupation</th>\n",
              "      <th>relationship</th>\n",
              "      <th>race</th>\n",
              "      <th>gender</th>\n",
              "      <th>capital-gain</th>\n",
              "      <th>capital-loss</th>\n",
              "      <th>hours-per-week</th>\n",
              "      <th>native-country</th>\n",
              "      <th>income</th>\n",
              "    </tr>\n",
              "  </thead>\n",
              "  <tbody>\n",
              "    <tr>\n",
              "      <th>0</th>\n",
              "      <td>25</td>\n",
              "      <td>Private</td>\n",
              "      <td>226802</td>\n",
              "      <td>11th</td>\n",
              "      <td>7</td>\n",
              "      <td>Never-married</td>\n",
              "      <td>Machine-op-inspct</td>\n",
              "      <td>Own-child</td>\n",
              "      <td>Black</td>\n",
              "      <td>Male</td>\n",
              "      <td>0</td>\n",
              "      <td>0</td>\n",
              "      <td>40</td>\n",
              "      <td>United-States</td>\n",
              "      <td>&lt;=50K</td>\n",
              "    </tr>\n",
              "    <tr>\n",
              "      <th>1</th>\n",
              "      <td>38</td>\n",
              "      <td>Private</td>\n",
              "      <td>89814</td>\n",
              "      <td>HS-grad</td>\n",
              "      <td>9</td>\n",
              "      <td>Married-civ-spouse</td>\n",
              "      <td>Farming-fishing</td>\n",
              "      <td>Husband</td>\n",
              "      <td>White</td>\n",
              "      <td>Male</td>\n",
              "      <td>0</td>\n",
              "      <td>0</td>\n",
              "      <td>50</td>\n",
              "      <td>United-States</td>\n",
              "      <td>&lt;=50K</td>\n",
              "    </tr>\n",
              "    <tr>\n",
              "      <th>2</th>\n",
              "      <td>28</td>\n",
              "      <td>Local-gov</td>\n",
              "      <td>336951</td>\n",
              "      <td>Assoc-acdm</td>\n",
              "      <td>12</td>\n",
              "      <td>Married-civ-spouse</td>\n",
              "      <td>Protective-serv</td>\n",
              "      <td>Husband</td>\n",
              "      <td>White</td>\n",
              "      <td>Male</td>\n",
              "      <td>0</td>\n",
              "      <td>0</td>\n",
              "      <td>40</td>\n",
              "      <td>United-States</td>\n",
              "      <td>&gt;50K</td>\n",
              "    </tr>\n",
              "    <tr>\n",
              "      <th>3</th>\n",
              "      <td>44</td>\n",
              "      <td>Private</td>\n",
              "      <td>160323</td>\n",
              "      <td>Some-college</td>\n",
              "      <td>10</td>\n",
              "      <td>Married-civ-spouse</td>\n",
              "      <td>Machine-op-inspct</td>\n",
              "      <td>Husband</td>\n",
              "      <td>Black</td>\n",
              "      <td>Male</td>\n",
              "      <td>7688</td>\n",
              "      <td>0</td>\n",
              "      <td>40</td>\n",
              "      <td>United-States</td>\n",
              "      <td>&gt;50K</td>\n",
              "    </tr>\n",
              "    <tr>\n",
              "      <th>4</th>\n",
              "      <td>18</td>\n",
              "      <td>?</td>\n",
              "      <td>103497</td>\n",
              "      <td>Some-college</td>\n",
              "      <td>10</td>\n",
              "      <td>Never-married</td>\n",
              "      <td>?</td>\n",
              "      <td>Own-child</td>\n",
              "      <td>White</td>\n",
              "      <td>Female</td>\n",
              "      <td>0</td>\n",
              "      <td>0</td>\n",
              "      <td>30</td>\n",
              "      <td>United-States</td>\n",
              "      <td>&lt;=50K</td>\n",
              "    </tr>\n",
              "    <tr>\n",
              "      <th>5</th>\n",
              "      <td>34</td>\n",
              "      <td>Private</td>\n",
              "      <td>198693</td>\n",
              "      <td>10th</td>\n",
              "      <td>6</td>\n",
              "      <td>Never-married</td>\n",
              "      <td>Other-service</td>\n",
              "      <td>Not-in-family</td>\n",
              "      <td>White</td>\n",
              "      <td>Male</td>\n",
              "      <td>0</td>\n",
              "      <td>0</td>\n",
              "      <td>30</td>\n",
              "      <td>United-States</td>\n",
              "      <td>&lt;=50K</td>\n",
              "    </tr>\n",
              "    <tr>\n",
              "      <th>6</th>\n",
              "      <td>29</td>\n",
              "      <td>?</td>\n",
              "      <td>227026</td>\n",
              "      <td>HS-grad</td>\n",
              "      <td>9</td>\n",
              "      <td>Never-married</td>\n",
              "      <td>?</td>\n",
              "      <td>Unmarried</td>\n",
              "      <td>Black</td>\n",
              "      <td>Male</td>\n",
              "      <td>0</td>\n",
              "      <td>0</td>\n",
              "      <td>40</td>\n",
              "      <td>United-States</td>\n",
              "      <td>&lt;=50K</td>\n",
              "    </tr>\n",
              "    <tr>\n",
              "      <th>7</th>\n",
              "      <td>63</td>\n",
              "      <td>Self-emp-not-inc</td>\n",
              "      <td>104626</td>\n",
              "      <td>Prof-school</td>\n",
              "      <td>15</td>\n",
              "      <td>Married-civ-spouse</td>\n",
              "      <td>Prof-specialty</td>\n",
              "      <td>Husband</td>\n",
              "      <td>White</td>\n",
              "      <td>Male</td>\n",
              "      <td>3103</td>\n",
              "      <td>0</td>\n",
              "      <td>32</td>\n",
              "      <td>United-States</td>\n",
              "      <td>&gt;50K</td>\n",
              "    </tr>\n",
              "    <tr>\n",
              "      <th>8</th>\n",
              "      <td>24</td>\n",
              "      <td>Private</td>\n",
              "      <td>369667</td>\n",
              "      <td>Some-college</td>\n",
              "      <td>10</td>\n",
              "      <td>Never-married</td>\n",
              "      <td>Other-service</td>\n",
              "      <td>Unmarried</td>\n",
              "      <td>White</td>\n",
              "      <td>Female</td>\n",
              "      <td>0</td>\n",
              "      <td>0</td>\n",
              "      <td>40</td>\n",
              "      <td>United-States</td>\n",
              "      <td>&lt;=50K</td>\n",
              "    </tr>\n",
              "    <tr>\n",
              "      <th>9</th>\n",
              "      <td>55</td>\n",
              "      <td>Private</td>\n",
              "      <td>104996</td>\n",
              "      <td>7th-8th</td>\n",
              "      <td>4</td>\n",
              "      <td>Married-civ-spouse</td>\n",
              "      <td>Craft-repair</td>\n",
              "      <td>Husband</td>\n",
              "      <td>White</td>\n",
              "      <td>Male</td>\n",
              "      <td>0</td>\n",
              "      <td>0</td>\n",
              "      <td>10</td>\n",
              "      <td>United-States</td>\n",
              "      <td>&lt;=50K</td>\n",
              "    </tr>\n",
              "  </tbody>\n",
              "</table>\n",
              "</div>\n",
              "      <button class=\"colab-df-convert\" onclick=\"convertToInteractive('df-0a48a3cb-4695-419c-b97d-8de134ff1901')\"\n",
              "              title=\"Convert this dataframe to an interactive table.\"\n",
              "              style=\"display:none;\">\n",
              "        \n",
              "  <svg xmlns=\"http://www.w3.org/2000/svg\" height=\"24px\"viewBox=\"0 0 24 24\"\n",
              "       width=\"24px\">\n",
              "    <path d=\"M0 0h24v24H0V0z\" fill=\"none\"/>\n",
              "    <path d=\"M18.56 5.44l.94 2.06.94-2.06 2.06-.94-2.06-.94-.94-2.06-.94 2.06-2.06.94zm-11 1L8.5 8.5l.94-2.06 2.06-.94-2.06-.94L8.5 2.5l-.94 2.06-2.06.94zm10 10l.94 2.06.94-2.06 2.06-.94-2.06-.94-.94-2.06-.94 2.06-2.06.94z\"/><path d=\"M17.41 7.96l-1.37-1.37c-.4-.4-.92-.59-1.43-.59-.52 0-1.04.2-1.43.59L10.3 9.45l-7.72 7.72c-.78.78-.78 2.05 0 2.83L4 21.41c.39.39.9.59 1.41.59.51 0 1.02-.2 1.41-.59l7.78-7.78 2.81-2.81c.8-.78.8-2.07 0-2.86zM5.41 20L4 18.59l7.72-7.72 1.47 1.35L5.41 20z\"/>\n",
              "  </svg>\n",
              "      </button>\n",
              "      \n",
              "  <style>\n",
              "    .colab-df-container {\n",
              "      display:flex;\n",
              "      flex-wrap:wrap;\n",
              "      gap: 12px;\n",
              "    }\n",
              "\n",
              "    .colab-df-convert {\n",
              "      background-color: #E8F0FE;\n",
              "      border: none;\n",
              "      border-radius: 50%;\n",
              "      cursor: pointer;\n",
              "      display: none;\n",
              "      fill: #1967D2;\n",
              "      height: 32px;\n",
              "      padding: 0 0 0 0;\n",
              "      width: 32px;\n",
              "    }\n",
              "\n",
              "    .colab-df-convert:hover {\n",
              "      background-color: #E2EBFA;\n",
              "      box-shadow: 0px 1px 2px rgba(60, 64, 67, 0.3), 0px 1px 3px 1px rgba(60, 64, 67, 0.15);\n",
              "      fill: #174EA6;\n",
              "    }\n",
              "\n",
              "    [theme=dark] .colab-df-convert {\n",
              "      background-color: #3B4455;\n",
              "      fill: #D2E3FC;\n",
              "    }\n",
              "\n",
              "    [theme=dark] .colab-df-convert:hover {\n",
              "      background-color: #434B5C;\n",
              "      box-shadow: 0px 1px 3px 1px rgba(0, 0, 0, 0.15);\n",
              "      filter: drop-shadow(0px 1px 2px rgba(0, 0, 0, 0.3));\n",
              "      fill: #FFFFFF;\n",
              "    }\n",
              "  </style>\n",
              "\n",
              "      <script>\n",
              "        const buttonEl =\n",
              "          document.querySelector('#df-0a48a3cb-4695-419c-b97d-8de134ff1901 button.colab-df-convert');\n",
              "        buttonEl.style.display =\n",
              "          google.colab.kernel.accessAllowed ? 'block' : 'none';\n",
              "\n",
              "        async function convertToInteractive(key) {\n",
              "          const element = document.querySelector('#df-0a48a3cb-4695-419c-b97d-8de134ff1901');\n",
              "          const dataTable =\n",
              "            await google.colab.kernel.invokeFunction('convertToInteractive',\n",
              "                                                     [key], {});\n",
              "          if (!dataTable) return;\n",
              "\n",
              "          const docLinkHtml = 'Like what you see? Visit the ' +\n",
              "            '<a target=\"_blank\" href=https://colab.research.google.com/notebooks/data_table.ipynb>data table notebook</a>'\n",
              "            + ' to learn more about interactive tables.';\n",
              "          element.innerHTML = '';\n",
              "          dataTable['output_type'] = 'display_data';\n",
              "          await google.colab.output.renderOutput(dataTable, element);\n",
              "          const docLink = document.createElement('div');\n",
              "          docLink.innerHTML = docLinkHtml;\n",
              "          element.appendChild(docLink);\n",
              "        }\n",
              "      </script>\n",
              "    </div>\n",
              "  </div>\n",
              "  "
            ]
          },
          "metadata": {},
          "execution_count": 114
        }
      ]
    },
    {
      "cell_type": "code",
      "source": [
        "df.info() # This line of code tells me the Datatypes, the column names and categories within those columns."
      ],
      "metadata": {
        "colab": {
          "base_uri": "https://localhost:8080/"
        },
        "id": "0prPOzsLW5OO",
        "outputId": "55b7e635-4195-47b7-b391-d9415fb825af"
      },
      "execution_count": 115,
      "outputs": [
        {
          "output_type": "stream",
          "name": "stdout",
          "text": [
            "<class 'pandas.core.frame.DataFrame'>\n",
            "RangeIndex: 48842 entries, 0 to 48841\n",
            "Data columns (total 15 columns):\n",
            " #   Column           Non-Null Count  Dtype \n",
            "---  ------           --------------  ----- \n",
            " 0   age              48842 non-null  int64 \n",
            " 1   workclass        48842 non-null  object\n",
            " 2   fnlwgt           48842 non-null  int64 \n",
            " 3   education        48842 non-null  object\n",
            " 4   educational-num  48842 non-null  int64 \n",
            " 5   marital-status   48842 non-null  object\n",
            " 6   occupation       48842 non-null  object\n",
            " 7   relationship     48842 non-null  object\n",
            " 8   race             48842 non-null  object\n",
            " 9   gender           48842 non-null  object\n",
            " 10  capital-gain     48842 non-null  int64 \n",
            " 11  capital-loss     48842 non-null  int64 \n",
            " 12  hours-per-week   48842 non-null  int64 \n",
            " 13  native-country   48842 non-null  object\n",
            " 14  income           48842 non-null  object\n",
            "dtypes: int64(6), object(9)\n",
            "memory usage: 5.6+ MB\n"
          ]
        }
      ]
    },
    {
      "cell_type": "code",
      "source": [
        "df.nunique() # This line of code tells me the unique values in each column."
      ],
      "metadata": {
        "colab": {
          "base_uri": "https://localhost:8080/"
        },
        "id": "2yYcbht93hHY",
        "outputId": "ba4f782b-bd84-4c84-bcf4-6cbd7923dbf9"
      },
      "execution_count": 116,
      "outputs": [
        {
          "output_type": "execute_result",
          "data": {
            "text/plain": [
              "age                   74\n",
              "workclass              9\n",
              "fnlwgt             28523\n",
              "education             16\n",
              "educational-num       16\n",
              "marital-status         7\n",
              "occupation            15\n",
              "relationship           6\n",
              "race                   5\n",
              "gender                 2\n",
              "capital-gain         123\n",
              "capital-loss          99\n",
              "hours-per-week        96\n",
              "native-country        42\n",
              "income                 2\n",
              "dtype: int64"
            ]
          },
          "metadata": {},
          "execution_count": 116
        }
      ]
    },
    {
      "cell_type": "code",
      "source": [
        "df[\"fnlwgt\"].value_counts()"
      ],
      "metadata": {
        "colab": {
          "base_uri": "https://localhost:8080/"
        },
        "id": "QohtNHH2ZkGE",
        "outputId": "bd378db0-b966-4235-8a91-73763e0b86da"
      },
      "execution_count": 117,
      "outputs": [
        {
          "output_type": "execute_result",
          "data": {
            "text/plain": [
              "203488    21\n",
              "190290    19\n",
              "120277    19\n",
              "125892    18\n",
              "126569    18\n",
              "          ..\n",
              "188488     1\n",
              "285290     1\n",
              "293579     1\n",
              "114874     1\n",
              "257302     1\n",
              "Name: fnlwgt, Length: 28523, dtype: int64"
            ]
          },
          "metadata": {},
          "execution_count": 117
        }
      ]
    },
    {
      "cell_type": "code",
      "source": [
        "df[\"fnlwgt\"].nunique()"
      ],
      "metadata": {
        "colab": {
          "base_uri": "https://localhost:8080/"
        },
        "id": "bi7u6b8XaC5z",
        "outputId": "a1dbd6bb-94d7-4959-f352-9e6b050dd167"
      },
      "execution_count": 118,
      "outputs": [
        {
          "output_type": "execute_result",
          "data": {
            "text/plain": [
              "28523"
            ]
          },
          "metadata": {},
          "execution_count": 118
        }
      ]
    },
    {
      "cell_type": "markdown",
      "source": [
        "## Delete Unnecessary Columns"
      ],
      "metadata": {
        "id": "fUpk0EWR2gse"
      }
    },
    {
      "cell_type": "markdown",
      "source": [
        "- Unnecessary columns will be deleted that add no analytical value to our Data set."
      ],
      "metadata": {
        "id": "ipWszvA4DEQV"
      }
    },
    {
      "cell_type": "code",
      "source": [
        "df.drop(columns=[\"fnlwgt\"], inplace=True) # Dropping these columns in this line of code because they have no analytical value\n",
        "df.drop(columns=[\"educational-num\"], inplace=True)\n",
        "df.drop(columns=[\"capital-gain\"], inplace=True) # These columns can be dropped because they are measured after income happens. Capital gains tax is the taxation of capital assets.\n",
        "df.drop(columns=[\"capital-loss\"], inplace=True)\n",
        "df.drop(columns=[\"relationship\"], inplace=True)\n",
        "df.head(10)"
      ],
      "metadata": {
        "colab": {
          "base_uri": "https://localhost:8080/",
          "height": 598
        },
        "id": "BHQdRnrdYbNg",
        "outputId": "8e5db533-2f9c-46d8-bdec-240358b3532b"
      },
      "execution_count": 119,
      "outputs": [
        {
          "output_type": "execute_result",
          "data": {
            "text/plain": [
              "   age         workclass     education      marital-status         occupation  \\\n",
              "0   25           Private          11th       Never-married  Machine-op-inspct   \n",
              "1   38           Private       HS-grad  Married-civ-spouse    Farming-fishing   \n",
              "2   28         Local-gov    Assoc-acdm  Married-civ-spouse    Protective-serv   \n",
              "3   44           Private  Some-college  Married-civ-spouse  Machine-op-inspct   \n",
              "4   18                 ?  Some-college       Never-married                  ?   \n",
              "5   34           Private          10th       Never-married      Other-service   \n",
              "6   29                 ?       HS-grad       Never-married                  ?   \n",
              "7   63  Self-emp-not-inc   Prof-school  Married-civ-spouse     Prof-specialty   \n",
              "8   24           Private  Some-college       Never-married      Other-service   \n",
              "9   55           Private       7th-8th  Married-civ-spouse       Craft-repair   \n",
              "\n",
              "    race  gender  hours-per-week native-country income  \n",
              "0  Black    Male              40  United-States  <=50K  \n",
              "1  White    Male              50  United-States  <=50K  \n",
              "2  White    Male              40  United-States   >50K  \n",
              "3  Black    Male              40  United-States   >50K  \n",
              "4  White  Female              30  United-States  <=50K  \n",
              "5  White    Male              30  United-States  <=50K  \n",
              "6  Black    Male              40  United-States  <=50K  \n",
              "7  White    Male              32  United-States   >50K  \n",
              "8  White  Female              40  United-States  <=50K  \n",
              "9  White    Male              10  United-States  <=50K  "
            ],
            "text/html": [
              "\n",
              "  <div id=\"df-4eee5065-5f4d-4d35-a54d-3d0dba8b4a97\">\n",
              "    <div class=\"colab-df-container\">\n",
              "      <div>\n",
              "<style scoped>\n",
              "    .dataframe tbody tr th:only-of-type {\n",
              "        vertical-align: middle;\n",
              "    }\n",
              "\n",
              "    .dataframe tbody tr th {\n",
              "        vertical-align: top;\n",
              "    }\n",
              "\n",
              "    .dataframe thead th {\n",
              "        text-align: right;\n",
              "    }\n",
              "</style>\n",
              "<table border=\"1\" class=\"dataframe\">\n",
              "  <thead>\n",
              "    <tr style=\"text-align: right;\">\n",
              "      <th></th>\n",
              "      <th>age</th>\n",
              "      <th>workclass</th>\n",
              "      <th>education</th>\n",
              "      <th>marital-status</th>\n",
              "      <th>occupation</th>\n",
              "      <th>race</th>\n",
              "      <th>gender</th>\n",
              "      <th>hours-per-week</th>\n",
              "      <th>native-country</th>\n",
              "      <th>income</th>\n",
              "    </tr>\n",
              "  </thead>\n",
              "  <tbody>\n",
              "    <tr>\n",
              "      <th>0</th>\n",
              "      <td>25</td>\n",
              "      <td>Private</td>\n",
              "      <td>11th</td>\n",
              "      <td>Never-married</td>\n",
              "      <td>Machine-op-inspct</td>\n",
              "      <td>Black</td>\n",
              "      <td>Male</td>\n",
              "      <td>40</td>\n",
              "      <td>United-States</td>\n",
              "      <td>&lt;=50K</td>\n",
              "    </tr>\n",
              "    <tr>\n",
              "      <th>1</th>\n",
              "      <td>38</td>\n",
              "      <td>Private</td>\n",
              "      <td>HS-grad</td>\n",
              "      <td>Married-civ-spouse</td>\n",
              "      <td>Farming-fishing</td>\n",
              "      <td>White</td>\n",
              "      <td>Male</td>\n",
              "      <td>50</td>\n",
              "      <td>United-States</td>\n",
              "      <td>&lt;=50K</td>\n",
              "    </tr>\n",
              "    <tr>\n",
              "      <th>2</th>\n",
              "      <td>28</td>\n",
              "      <td>Local-gov</td>\n",
              "      <td>Assoc-acdm</td>\n",
              "      <td>Married-civ-spouse</td>\n",
              "      <td>Protective-serv</td>\n",
              "      <td>White</td>\n",
              "      <td>Male</td>\n",
              "      <td>40</td>\n",
              "      <td>United-States</td>\n",
              "      <td>&gt;50K</td>\n",
              "    </tr>\n",
              "    <tr>\n",
              "      <th>3</th>\n",
              "      <td>44</td>\n",
              "      <td>Private</td>\n",
              "      <td>Some-college</td>\n",
              "      <td>Married-civ-spouse</td>\n",
              "      <td>Machine-op-inspct</td>\n",
              "      <td>Black</td>\n",
              "      <td>Male</td>\n",
              "      <td>40</td>\n",
              "      <td>United-States</td>\n",
              "      <td>&gt;50K</td>\n",
              "    </tr>\n",
              "    <tr>\n",
              "      <th>4</th>\n",
              "      <td>18</td>\n",
              "      <td>?</td>\n",
              "      <td>Some-college</td>\n",
              "      <td>Never-married</td>\n",
              "      <td>?</td>\n",
              "      <td>White</td>\n",
              "      <td>Female</td>\n",
              "      <td>30</td>\n",
              "      <td>United-States</td>\n",
              "      <td>&lt;=50K</td>\n",
              "    </tr>\n",
              "    <tr>\n",
              "      <th>5</th>\n",
              "      <td>34</td>\n",
              "      <td>Private</td>\n",
              "      <td>10th</td>\n",
              "      <td>Never-married</td>\n",
              "      <td>Other-service</td>\n",
              "      <td>White</td>\n",
              "      <td>Male</td>\n",
              "      <td>30</td>\n",
              "      <td>United-States</td>\n",
              "      <td>&lt;=50K</td>\n",
              "    </tr>\n",
              "    <tr>\n",
              "      <th>6</th>\n",
              "      <td>29</td>\n",
              "      <td>?</td>\n",
              "      <td>HS-grad</td>\n",
              "      <td>Never-married</td>\n",
              "      <td>?</td>\n",
              "      <td>Black</td>\n",
              "      <td>Male</td>\n",
              "      <td>40</td>\n",
              "      <td>United-States</td>\n",
              "      <td>&lt;=50K</td>\n",
              "    </tr>\n",
              "    <tr>\n",
              "      <th>7</th>\n",
              "      <td>63</td>\n",
              "      <td>Self-emp-not-inc</td>\n",
              "      <td>Prof-school</td>\n",
              "      <td>Married-civ-spouse</td>\n",
              "      <td>Prof-specialty</td>\n",
              "      <td>White</td>\n",
              "      <td>Male</td>\n",
              "      <td>32</td>\n",
              "      <td>United-States</td>\n",
              "      <td>&gt;50K</td>\n",
              "    </tr>\n",
              "    <tr>\n",
              "      <th>8</th>\n",
              "      <td>24</td>\n",
              "      <td>Private</td>\n",
              "      <td>Some-college</td>\n",
              "      <td>Never-married</td>\n",
              "      <td>Other-service</td>\n",
              "      <td>White</td>\n",
              "      <td>Female</td>\n",
              "      <td>40</td>\n",
              "      <td>United-States</td>\n",
              "      <td>&lt;=50K</td>\n",
              "    </tr>\n",
              "    <tr>\n",
              "      <th>9</th>\n",
              "      <td>55</td>\n",
              "      <td>Private</td>\n",
              "      <td>7th-8th</td>\n",
              "      <td>Married-civ-spouse</td>\n",
              "      <td>Craft-repair</td>\n",
              "      <td>White</td>\n",
              "      <td>Male</td>\n",
              "      <td>10</td>\n",
              "      <td>United-States</td>\n",
              "      <td>&lt;=50K</td>\n",
              "    </tr>\n",
              "  </tbody>\n",
              "</table>\n",
              "</div>\n",
              "      <button class=\"colab-df-convert\" onclick=\"convertToInteractive('df-4eee5065-5f4d-4d35-a54d-3d0dba8b4a97')\"\n",
              "              title=\"Convert this dataframe to an interactive table.\"\n",
              "              style=\"display:none;\">\n",
              "        \n",
              "  <svg xmlns=\"http://www.w3.org/2000/svg\" height=\"24px\"viewBox=\"0 0 24 24\"\n",
              "       width=\"24px\">\n",
              "    <path d=\"M0 0h24v24H0V0z\" fill=\"none\"/>\n",
              "    <path d=\"M18.56 5.44l.94 2.06.94-2.06 2.06-.94-2.06-.94-.94-2.06-.94 2.06-2.06.94zm-11 1L8.5 8.5l.94-2.06 2.06-.94-2.06-.94L8.5 2.5l-.94 2.06-2.06.94zm10 10l.94 2.06.94-2.06 2.06-.94-2.06-.94-.94-2.06-.94 2.06-2.06.94z\"/><path d=\"M17.41 7.96l-1.37-1.37c-.4-.4-.92-.59-1.43-.59-.52 0-1.04.2-1.43.59L10.3 9.45l-7.72 7.72c-.78.78-.78 2.05 0 2.83L4 21.41c.39.39.9.59 1.41.59.51 0 1.02-.2 1.41-.59l7.78-7.78 2.81-2.81c.8-.78.8-2.07 0-2.86zM5.41 20L4 18.59l7.72-7.72 1.47 1.35L5.41 20z\"/>\n",
              "  </svg>\n",
              "      </button>\n",
              "      \n",
              "  <style>\n",
              "    .colab-df-container {\n",
              "      display:flex;\n",
              "      flex-wrap:wrap;\n",
              "      gap: 12px;\n",
              "    }\n",
              "\n",
              "    .colab-df-convert {\n",
              "      background-color: #E8F0FE;\n",
              "      border: none;\n",
              "      border-radius: 50%;\n",
              "      cursor: pointer;\n",
              "      display: none;\n",
              "      fill: #1967D2;\n",
              "      height: 32px;\n",
              "      padding: 0 0 0 0;\n",
              "      width: 32px;\n",
              "    }\n",
              "\n",
              "    .colab-df-convert:hover {\n",
              "      background-color: #E2EBFA;\n",
              "      box-shadow: 0px 1px 2px rgba(60, 64, 67, 0.3), 0px 1px 3px 1px rgba(60, 64, 67, 0.15);\n",
              "      fill: #174EA6;\n",
              "    }\n",
              "\n",
              "    [theme=dark] .colab-df-convert {\n",
              "      background-color: #3B4455;\n",
              "      fill: #D2E3FC;\n",
              "    }\n",
              "\n",
              "    [theme=dark] .colab-df-convert:hover {\n",
              "      background-color: #434B5C;\n",
              "      box-shadow: 0px 1px 3px 1px rgba(0, 0, 0, 0.15);\n",
              "      filter: drop-shadow(0px 1px 2px rgba(0, 0, 0, 0.3));\n",
              "      fill: #FFFFFF;\n",
              "    }\n",
              "  </style>\n",
              "\n",
              "      <script>\n",
              "        const buttonEl =\n",
              "          document.querySelector('#df-4eee5065-5f4d-4d35-a54d-3d0dba8b4a97 button.colab-df-convert');\n",
              "        buttonEl.style.display =\n",
              "          google.colab.kernel.accessAllowed ? 'block' : 'none';\n",
              "\n",
              "        async function convertToInteractive(key) {\n",
              "          const element = document.querySelector('#df-4eee5065-5f4d-4d35-a54d-3d0dba8b4a97');\n",
              "          const dataTable =\n",
              "            await google.colab.kernel.invokeFunction('convertToInteractive',\n",
              "                                                     [key], {});\n",
              "          if (!dataTable) return;\n",
              "\n",
              "          const docLinkHtml = 'Like what you see? Visit the ' +\n",
              "            '<a target=\"_blank\" href=https://colab.research.google.com/notebooks/data_table.ipynb>data table notebook</a>'\n",
              "            + ' to learn more about interactive tables.';\n",
              "          element.innerHTML = '';\n",
              "          dataTable['output_type'] = 'display_data';\n",
              "          await google.colab.output.renderOutput(dataTable, element);\n",
              "          const docLink = document.createElement('div');\n",
              "          docLink.innerHTML = docLinkHtml;\n",
              "          element.appendChild(docLink);\n",
              "        }\n",
              "      </script>\n",
              "    </div>\n",
              "  </div>\n",
              "  "
            ]
          },
          "metadata": {},
          "execution_count": 119
        }
      ]
    },
    {
      "cell_type": "markdown",
      "source": [
        " - Removing the columns \"fnlwgt\" as it seems to carry no relevant analytical meaning. Removing the column educational-num column as it seemed redundant and mimicked the preexisiting \"education\" column. "
      ],
      "metadata": {
        "id": "DEHiRJUcDwRy"
      }
    },
    {
      "cell_type": "markdown",
      "source": [
        "## Drop Duplicate Values"
      ],
      "metadata": {
        "id": "UpYJmwgI2pkl"
      }
    },
    {
      "cell_type": "code",
      "source": [
        "df.duplicated().sum()"
      ],
      "metadata": {
        "colab": {
          "base_uri": "https://localhost:8080/"
        },
        "id": "wC88fPbBa_iY",
        "outputId": "51a5fcc3-6781-4b02-bf5a-342433ef6bb6"
      },
      "execution_count": 120,
      "outputs": [
        {
          "output_type": "execute_result",
          "data": {
            "text/plain": [
              "9421"
            ]
          },
          "metadata": {},
          "execution_count": 120
        }
      ]
    },
    {
      "cell_type": "code",
      "source": [
        "df = df.drop_duplicates()"
      ],
      "metadata": {
        "id": "Li2DmNo6cg10"
      },
      "execution_count": 121,
      "outputs": []
    },
    {
      "cell_type": "code",
      "source": [
        "print(f\"The duplicates have been dropped and there are {df.duplicated().sum()} remaining\")"
      ],
      "metadata": {
        "colab": {
          "base_uri": "https://localhost:8080/"
        },
        "id": "ed6VI0rGbQaP",
        "outputId": "cadae7ff-f1ca-4104-8f3c-5d00a4f27be5"
      },
      "execution_count": 122,
      "outputs": [
        {
          "output_type": "stream",
          "name": "stdout",
          "text": [
            "The duplicates have been dropped and there are 0 remaining\n"
          ]
        }
      ]
    },
    {
      "cell_type": "markdown",
      "source": [
        "#Identify and Address Missing Values"
      ],
      "metadata": {
        "id": "T3wBXIEW2zll"
      }
    },
    {
      "cell_type": "code",
      "source": [
        "df.isna().sum() # This line of code shows there are no missing values in our Data Set"
      ],
      "metadata": {
        "colab": {
          "base_uri": "https://localhost:8080/"
        },
        "id": "BWhHlcA4cuUb",
        "outputId": "df6f325f-1eea-4704-ab1c-cff8bbdd7742"
      },
      "execution_count": 123,
      "outputs": [
        {
          "output_type": "execute_result",
          "data": {
            "text/plain": [
              "age               0\n",
              "workclass         0\n",
              "education         0\n",
              "marital-status    0\n",
              "occupation        0\n",
              "race              0\n",
              "gender            0\n",
              "hours-per-week    0\n",
              "native-country    0\n",
              "income            0\n",
              "dtype: int64"
            ]
          },
          "metadata": {},
          "execution_count": 123
        }
      ]
    },
    {
      "cell_type": "markdown",
      "source": [
        "- There are no Missing Values that need to be addressed."
      ],
      "metadata": {
        "id": "DjNB1K693yXy"
      }
    },
    {
      "cell_type": "code",
      "source": [
        "df[\"age\"].unique() # This line of code gives me a look at whether or not there are any unique values."
      ],
      "metadata": {
        "colab": {
          "base_uri": "https://localhost:8080/"
        },
        "id": "yYMm0tD7c8nq",
        "outputId": "6141e5f6-f001-4788-d4d6-9a6177c3eb14"
      },
      "execution_count": 124,
      "outputs": [
        {
          "output_type": "execute_result",
          "data": {
            "text/plain": [
              "array([25, 38, 28, 44, 18, 34, 29, 63, 24, 55, 65, 36, 26, 58, 48, 43, 20,\n",
              "       37, 40, 72, 45, 22, 23, 54, 32, 46, 56, 17, 39, 52, 21, 42, 33, 30,\n",
              "       47, 41, 19, 69, 50, 31, 59, 49, 51, 27, 57, 61, 64, 79, 73, 53, 77,\n",
              "       80, 62, 35, 68, 66, 75, 60, 67, 71, 70, 90, 81, 74, 78, 82, 83, 85,\n",
              "       76, 84, 89, 88, 87, 86])"
            ]
          },
          "metadata": {},
          "execution_count": 124
        }
      ]
    },
    {
      "cell_type": "code",
      "source": [
        "df[\"age\"].describe() # This column gives me a look at whether or not there are any outliers. There seems to be none."
      ],
      "metadata": {
        "colab": {
          "base_uri": "https://localhost:8080/"
        },
        "id": "o0RAp-hCdlLh",
        "outputId": "9798dbed-5094-4b7c-dc3f-60d089901814"
      },
      "execution_count": 125,
      "outputs": [
        {
          "output_type": "execute_result",
          "data": {
            "text/plain": [
              "count    39421.000000\n",
              "mean        39.900738\n",
              "std         13.848227\n",
              "min         17.000000\n",
              "25%         29.000000\n",
              "50%         38.000000\n",
              "75%         49.000000\n",
              "max         90.000000\n",
              "Name: age, dtype: float64"
            ]
          },
          "metadata": {},
          "execution_count": 125
        }
      ]
    },
    {
      "cell_type": "code",
      "source": [
        "df[\"workclass\"].value_counts() # This line of code tells me my value counts and they have no inconsistencies except the \"?\"."
      ],
      "metadata": {
        "colab": {
          "base_uri": "https://localhost:8080/"
        },
        "id": "yGZRzo8uAVEc",
        "outputId": "1c99c791-29b7-497a-ab14-63830211b6cd"
      },
      "execution_count": 126,
      "outputs": [
        {
          "output_type": "execute_result",
          "data": {
            "text/plain": [
              "Private             25665\n",
              "Self-emp-not-inc     3662\n",
              "Local-gov            2908\n",
              "?                    2279\n",
              "State-gov            1897\n",
              "Self-emp-inc         1608\n",
              "Federal-gov          1371\n",
              "Without-pay            21\n",
              "Never-worked           10\n",
              "Name: workclass, dtype: int64"
            ]
          },
          "metadata": {},
          "execution_count": 126
        }
      ]
    },
    {
      "cell_type": "markdown",
      "source": [
        "##Identify and correct inconsistencies in data for categorical values. Bad value errors will be replaced with missing error \"Nan\" heading. "
      ],
      "metadata": {
        "id": "Qshvbzx4GJss"
      }
    },
    {
      "cell_type": "code",
      "source": [
        "df[\"workclass\"] = df[\"workclass\"].replace(\"?\",\"Nan\")\n",
        "df[\"workclass\"].value_counts()"
      ],
      "metadata": {
        "colab": {
          "base_uri": "https://localhost:8080/"
        },
        "id": "DiXg5F4vEWTP",
        "outputId": "5df129e1-9fb1-4401-8068-4f0939704c2d"
      },
      "execution_count": 127,
      "outputs": [
        {
          "output_type": "execute_result",
          "data": {
            "text/plain": [
              "Private             25665\n",
              "Self-emp-not-inc     3662\n",
              "Local-gov            2908\n",
              "Nan                  2279\n",
              "State-gov            1897\n",
              "Self-emp-inc         1608\n",
              "Federal-gov          1371\n",
              "Without-pay            21\n",
              "Never-worked           10\n",
              "Name: workclass, dtype: int64"
            ]
          },
          "metadata": {},
          "execution_count": 127
        }
      ]
    },
    {
      "cell_type": "markdown",
      "source": [
        "### For enhanced Data analysis I will combine Federal, Local Gov and State- Gov into one column under the heading \"Government\"."
      ],
      "metadata": {
        "id": "Kj4DeUnEESld"
      }
    },
    {
      "cell_type": "code",
      "source": [
        "df[\"workclass\"] = df[\"workclass\"].replace(\"Local-gov\",\"Government\")\n",
        "df[\"workclass\"] = df[\"workclass\"].replace(\"State-gov\",\"Government\")\n",
        "df[\"workclass\"] = df[\"workclass\"].replace(\"Federal-gov\",\"Government\")\n",
        "df[\"workclass\"].value_counts()"
      ],
      "metadata": {
        "colab": {
          "base_uri": "https://localhost:8080/"
        },
        "id": "Ev9_MAzMER82",
        "outputId": "4d37fcb4-4d17-4a9e-b8ad-5af97e13a878"
      },
      "execution_count": 128,
      "outputs": [
        {
          "output_type": "execute_result",
          "data": {
            "text/plain": [
              "Private             25665\n",
              "Government           6176\n",
              "Self-emp-not-inc     3662\n",
              "Nan                  2279\n",
              "Self-emp-inc         1608\n",
              "Without-pay            21\n",
              "Never-worked           10\n",
              "Name: workclass, dtype: int64"
            ]
          },
          "metadata": {},
          "execution_count": 128
        }
      ]
    },
    {
      "cell_type": "markdown",
      "source": [
        "### For workclass I will remove without-pay and never-worked as they represent such a small percentage relative to the whole dataset. "
      ],
      "metadata": {
        "id": "Zrhn-63pJe6c"
      }
    },
    {
      "cell_type": "code",
      "source": [
        "df[df[\"workclass\"] == \"Without-pay\"]"
      ],
      "metadata": {
        "colab": {
          "base_uri": "https://localhost:8080/",
          "height": 1000
        },
        "id": "PZNgm2QZ5mZ1",
        "outputId": "a7b71dac-f1fe-4605-a577-909d3fd704b1"
      },
      "execution_count": 129,
      "outputs": [
        {
          "output_type": "execute_result",
          "data": {
            "text/plain": [
              "       age    workclass     education         marital-status  \\\n",
              "2957    19  Without-pay       HS-grad          Never-married   \n",
              "3177    74  Without-pay       7th-8th     Married-civ-spouse   \n",
              "6466    51  Without-pay    Assoc-acdm     Married-civ-spouse   \n",
              "8903    64  Without-pay       HS-grad     Married-civ-spouse   \n",
              "10647   50  Without-pay       HS-grad     Married-civ-spouse   \n",
              "13836   39  Without-pay       HS-grad     Married-civ-spouse   \n",
              "14034   27  Without-pay       HS-grad          Never-married   \n",
              "18182   65  Without-pay       7th-8th                Widowed   \n",
              "25538   19  Without-pay       HS-grad          Never-married   \n",
              "31814   21  Without-pay       HS-grad          Never-married   \n",
              "31976   22  Without-pay       HS-grad          Never-married   \n",
              "33093   46  Without-pay       HS-grad     Married-civ-spouse   \n",
              "36354   65  Without-pay       HS-grad     Married-civ-spouse   \n",
              "38225   52  Without-pay       HS-grad     Married-civ-spouse   \n",
              "38496   19  Without-pay       HS-grad          Never-married   \n",
              "40877   62  Without-pay    Assoc-acdm     Married-civ-spouse   \n",
              "41781   29  Without-pay  Some-college     Married-civ-spouse   \n",
              "44028   72  Without-pay       HS-grad     Married-civ-spouse   \n",
              "45110   68  Without-pay  Some-college  Married-spouse-absent   \n",
              "45439   67  Without-pay       HS-grad     Married-civ-spouse   \n",
              "48543   62  Without-pay  Some-college     Married-civ-spouse   \n",
              "\n",
              "              occupation                race  gender  hours-per-week  \\\n",
              "2957       Other-service               White    Male              10   \n",
              "3177     Farming-fishing               White    Male              20   \n",
              "6466               Sales               White    Male              45   \n",
              "8903   Handlers-cleaners               White    Male              60   \n",
              "10647  Machine-op-inspct               White  Female              40   \n",
              "13836    Exec-managerial               White    Male              40   \n",
              "14034    Farming-fishing               White  Female              40   \n",
              "18182    Farming-fishing               White  Female              50   \n",
              "25538    Farming-fishing               White    Male              20   \n",
              "31814       Craft-repair               Black    Male              40   \n",
              "31976  Handlers-cleaners               White    Male              40   \n",
              "33093  Machine-op-inspct               White  Female              25   \n",
              "36354   Transport-moving               White    Male              20   \n",
              "38225       Adm-clerical               White  Female              30   \n",
              "38496    Farming-fishing               White    Male              10   \n",
              "40877    Farming-fishing               White    Male              50   \n",
              "41781    Farming-fishing               White    Male              65   \n",
              "44028      Other-service               White    Male              55   \n",
              "45110    Farming-fishing               White  Female              25   \n",
              "45439       Adm-clerical  Asian-Pac-Islander    Male              12   \n",
              "48543       Adm-clerical               White  Female              16   \n",
              "\n",
              "      native-country income  \n",
              "2957   United-States  <=50K  \n",
              "3177   United-States  <=50K  \n",
              "6466   United-States  <=50K  \n",
              "8903   United-States   >50K  \n",
              "10647  United-States   >50K  \n",
              "13836  United-States  <=50K  \n",
              "14034  United-States  <=50K  \n",
              "18182  United-States  <=50K  \n",
              "25538  United-States  <=50K  \n",
              "31814  United-States  <=50K  \n",
              "31976  United-States  <=50K  \n",
              "33093  United-States  <=50K  \n",
              "36354  United-States  <=50K  \n",
              "38225  United-States  <=50K  \n",
              "38496  United-States  <=50K  \n",
              "40877  United-States  <=50K  \n",
              "41781  United-States  <=50K  \n",
              "44028  United-States  <=50K  \n",
              "45110  United-States  <=50K  \n",
              "45439    Philippines  <=50K  \n",
              "48543  United-States  <=50K  "
            ],
            "text/html": [
              "\n",
              "  <div id=\"df-7370cc16-735b-4102-beb7-61ff8b9f043e\">\n",
              "    <div class=\"colab-df-container\">\n",
              "      <div>\n",
              "<style scoped>\n",
              "    .dataframe tbody tr th:only-of-type {\n",
              "        vertical-align: middle;\n",
              "    }\n",
              "\n",
              "    .dataframe tbody tr th {\n",
              "        vertical-align: top;\n",
              "    }\n",
              "\n",
              "    .dataframe thead th {\n",
              "        text-align: right;\n",
              "    }\n",
              "</style>\n",
              "<table border=\"1\" class=\"dataframe\">\n",
              "  <thead>\n",
              "    <tr style=\"text-align: right;\">\n",
              "      <th></th>\n",
              "      <th>age</th>\n",
              "      <th>workclass</th>\n",
              "      <th>education</th>\n",
              "      <th>marital-status</th>\n",
              "      <th>occupation</th>\n",
              "      <th>race</th>\n",
              "      <th>gender</th>\n",
              "      <th>hours-per-week</th>\n",
              "      <th>native-country</th>\n",
              "      <th>income</th>\n",
              "    </tr>\n",
              "  </thead>\n",
              "  <tbody>\n",
              "    <tr>\n",
              "      <th>2957</th>\n",
              "      <td>19</td>\n",
              "      <td>Without-pay</td>\n",
              "      <td>HS-grad</td>\n",
              "      <td>Never-married</td>\n",
              "      <td>Other-service</td>\n",
              "      <td>White</td>\n",
              "      <td>Male</td>\n",
              "      <td>10</td>\n",
              "      <td>United-States</td>\n",
              "      <td>&lt;=50K</td>\n",
              "    </tr>\n",
              "    <tr>\n",
              "      <th>3177</th>\n",
              "      <td>74</td>\n",
              "      <td>Without-pay</td>\n",
              "      <td>7th-8th</td>\n",
              "      <td>Married-civ-spouse</td>\n",
              "      <td>Farming-fishing</td>\n",
              "      <td>White</td>\n",
              "      <td>Male</td>\n",
              "      <td>20</td>\n",
              "      <td>United-States</td>\n",
              "      <td>&lt;=50K</td>\n",
              "    </tr>\n",
              "    <tr>\n",
              "      <th>6466</th>\n",
              "      <td>51</td>\n",
              "      <td>Without-pay</td>\n",
              "      <td>Assoc-acdm</td>\n",
              "      <td>Married-civ-spouse</td>\n",
              "      <td>Sales</td>\n",
              "      <td>White</td>\n",
              "      <td>Male</td>\n",
              "      <td>45</td>\n",
              "      <td>United-States</td>\n",
              "      <td>&lt;=50K</td>\n",
              "    </tr>\n",
              "    <tr>\n",
              "      <th>8903</th>\n",
              "      <td>64</td>\n",
              "      <td>Without-pay</td>\n",
              "      <td>HS-grad</td>\n",
              "      <td>Married-civ-spouse</td>\n",
              "      <td>Handlers-cleaners</td>\n",
              "      <td>White</td>\n",
              "      <td>Male</td>\n",
              "      <td>60</td>\n",
              "      <td>United-States</td>\n",
              "      <td>&gt;50K</td>\n",
              "    </tr>\n",
              "    <tr>\n",
              "      <th>10647</th>\n",
              "      <td>50</td>\n",
              "      <td>Without-pay</td>\n",
              "      <td>HS-grad</td>\n",
              "      <td>Married-civ-spouse</td>\n",
              "      <td>Machine-op-inspct</td>\n",
              "      <td>White</td>\n",
              "      <td>Female</td>\n",
              "      <td>40</td>\n",
              "      <td>United-States</td>\n",
              "      <td>&gt;50K</td>\n",
              "    </tr>\n",
              "    <tr>\n",
              "      <th>13836</th>\n",
              "      <td>39</td>\n",
              "      <td>Without-pay</td>\n",
              "      <td>HS-grad</td>\n",
              "      <td>Married-civ-spouse</td>\n",
              "      <td>Exec-managerial</td>\n",
              "      <td>White</td>\n",
              "      <td>Male</td>\n",
              "      <td>40</td>\n",
              "      <td>United-States</td>\n",
              "      <td>&lt;=50K</td>\n",
              "    </tr>\n",
              "    <tr>\n",
              "      <th>14034</th>\n",
              "      <td>27</td>\n",
              "      <td>Without-pay</td>\n",
              "      <td>HS-grad</td>\n",
              "      <td>Never-married</td>\n",
              "      <td>Farming-fishing</td>\n",
              "      <td>White</td>\n",
              "      <td>Female</td>\n",
              "      <td>40</td>\n",
              "      <td>United-States</td>\n",
              "      <td>&lt;=50K</td>\n",
              "    </tr>\n",
              "    <tr>\n",
              "      <th>18182</th>\n",
              "      <td>65</td>\n",
              "      <td>Without-pay</td>\n",
              "      <td>7th-8th</td>\n",
              "      <td>Widowed</td>\n",
              "      <td>Farming-fishing</td>\n",
              "      <td>White</td>\n",
              "      <td>Female</td>\n",
              "      <td>50</td>\n",
              "      <td>United-States</td>\n",
              "      <td>&lt;=50K</td>\n",
              "    </tr>\n",
              "    <tr>\n",
              "      <th>25538</th>\n",
              "      <td>19</td>\n",
              "      <td>Without-pay</td>\n",
              "      <td>HS-grad</td>\n",
              "      <td>Never-married</td>\n",
              "      <td>Farming-fishing</td>\n",
              "      <td>White</td>\n",
              "      <td>Male</td>\n",
              "      <td>20</td>\n",
              "      <td>United-States</td>\n",
              "      <td>&lt;=50K</td>\n",
              "    </tr>\n",
              "    <tr>\n",
              "      <th>31814</th>\n",
              "      <td>21</td>\n",
              "      <td>Without-pay</td>\n",
              "      <td>HS-grad</td>\n",
              "      <td>Never-married</td>\n",
              "      <td>Craft-repair</td>\n",
              "      <td>Black</td>\n",
              "      <td>Male</td>\n",
              "      <td>40</td>\n",
              "      <td>United-States</td>\n",
              "      <td>&lt;=50K</td>\n",
              "    </tr>\n",
              "    <tr>\n",
              "      <th>31976</th>\n",
              "      <td>22</td>\n",
              "      <td>Without-pay</td>\n",
              "      <td>HS-grad</td>\n",
              "      <td>Never-married</td>\n",
              "      <td>Handlers-cleaners</td>\n",
              "      <td>White</td>\n",
              "      <td>Male</td>\n",
              "      <td>40</td>\n",
              "      <td>United-States</td>\n",
              "      <td>&lt;=50K</td>\n",
              "    </tr>\n",
              "    <tr>\n",
              "      <th>33093</th>\n",
              "      <td>46</td>\n",
              "      <td>Without-pay</td>\n",
              "      <td>HS-grad</td>\n",
              "      <td>Married-civ-spouse</td>\n",
              "      <td>Machine-op-inspct</td>\n",
              "      <td>White</td>\n",
              "      <td>Female</td>\n",
              "      <td>25</td>\n",
              "      <td>United-States</td>\n",
              "      <td>&lt;=50K</td>\n",
              "    </tr>\n",
              "    <tr>\n",
              "      <th>36354</th>\n",
              "      <td>65</td>\n",
              "      <td>Without-pay</td>\n",
              "      <td>HS-grad</td>\n",
              "      <td>Married-civ-spouse</td>\n",
              "      <td>Transport-moving</td>\n",
              "      <td>White</td>\n",
              "      <td>Male</td>\n",
              "      <td>20</td>\n",
              "      <td>United-States</td>\n",
              "      <td>&lt;=50K</td>\n",
              "    </tr>\n",
              "    <tr>\n",
              "      <th>38225</th>\n",
              "      <td>52</td>\n",
              "      <td>Without-pay</td>\n",
              "      <td>HS-grad</td>\n",
              "      <td>Married-civ-spouse</td>\n",
              "      <td>Adm-clerical</td>\n",
              "      <td>White</td>\n",
              "      <td>Female</td>\n",
              "      <td>30</td>\n",
              "      <td>United-States</td>\n",
              "      <td>&lt;=50K</td>\n",
              "    </tr>\n",
              "    <tr>\n",
              "      <th>38496</th>\n",
              "      <td>19</td>\n",
              "      <td>Without-pay</td>\n",
              "      <td>HS-grad</td>\n",
              "      <td>Never-married</td>\n",
              "      <td>Farming-fishing</td>\n",
              "      <td>White</td>\n",
              "      <td>Male</td>\n",
              "      <td>10</td>\n",
              "      <td>United-States</td>\n",
              "      <td>&lt;=50K</td>\n",
              "    </tr>\n",
              "    <tr>\n",
              "      <th>40877</th>\n",
              "      <td>62</td>\n",
              "      <td>Without-pay</td>\n",
              "      <td>Assoc-acdm</td>\n",
              "      <td>Married-civ-spouse</td>\n",
              "      <td>Farming-fishing</td>\n",
              "      <td>White</td>\n",
              "      <td>Male</td>\n",
              "      <td>50</td>\n",
              "      <td>United-States</td>\n",
              "      <td>&lt;=50K</td>\n",
              "    </tr>\n",
              "    <tr>\n",
              "      <th>41781</th>\n",
              "      <td>29</td>\n",
              "      <td>Without-pay</td>\n",
              "      <td>Some-college</td>\n",
              "      <td>Married-civ-spouse</td>\n",
              "      <td>Farming-fishing</td>\n",
              "      <td>White</td>\n",
              "      <td>Male</td>\n",
              "      <td>65</td>\n",
              "      <td>United-States</td>\n",
              "      <td>&lt;=50K</td>\n",
              "    </tr>\n",
              "    <tr>\n",
              "      <th>44028</th>\n",
              "      <td>72</td>\n",
              "      <td>Without-pay</td>\n",
              "      <td>HS-grad</td>\n",
              "      <td>Married-civ-spouse</td>\n",
              "      <td>Other-service</td>\n",
              "      <td>White</td>\n",
              "      <td>Male</td>\n",
              "      <td>55</td>\n",
              "      <td>United-States</td>\n",
              "      <td>&lt;=50K</td>\n",
              "    </tr>\n",
              "    <tr>\n",
              "      <th>45110</th>\n",
              "      <td>68</td>\n",
              "      <td>Without-pay</td>\n",
              "      <td>Some-college</td>\n",
              "      <td>Married-spouse-absent</td>\n",
              "      <td>Farming-fishing</td>\n",
              "      <td>White</td>\n",
              "      <td>Female</td>\n",
              "      <td>25</td>\n",
              "      <td>United-States</td>\n",
              "      <td>&lt;=50K</td>\n",
              "    </tr>\n",
              "    <tr>\n",
              "      <th>45439</th>\n",
              "      <td>67</td>\n",
              "      <td>Without-pay</td>\n",
              "      <td>HS-grad</td>\n",
              "      <td>Married-civ-spouse</td>\n",
              "      <td>Adm-clerical</td>\n",
              "      <td>Asian-Pac-Islander</td>\n",
              "      <td>Male</td>\n",
              "      <td>12</td>\n",
              "      <td>Philippines</td>\n",
              "      <td>&lt;=50K</td>\n",
              "    </tr>\n",
              "    <tr>\n",
              "      <th>48543</th>\n",
              "      <td>62</td>\n",
              "      <td>Without-pay</td>\n",
              "      <td>Some-college</td>\n",
              "      <td>Married-civ-spouse</td>\n",
              "      <td>Adm-clerical</td>\n",
              "      <td>White</td>\n",
              "      <td>Female</td>\n",
              "      <td>16</td>\n",
              "      <td>United-States</td>\n",
              "      <td>&lt;=50K</td>\n",
              "    </tr>\n",
              "  </tbody>\n",
              "</table>\n",
              "</div>\n",
              "      <button class=\"colab-df-convert\" onclick=\"convertToInteractive('df-7370cc16-735b-4102-beb7-61ff8b9f043e')\"\n",
              "              title=\"Convert this dataframe to an interactive table.\"\n",
              "              style=\"display:none;\">\n",
              "        \n",
              "  <svg xmlns=\"http://www.w3.org/2000/svg\" height=\"24px\"viewBox=\"0 0 24 24\"\n",
              "       width=\"24px\">\n",
              "    <path d=\"M0 0h24v24H0V0z\" fill=\"none\"/>\n",
              "    <path d=\"M18.56 5.44l.94 2.06.94-2.06 2.06-.94-2.06-.94-.94-2.06-.94 2.06-2.06.94zm-11 1L8.5 8.5l.94-2.06 2.06-.94-2.06-.94L8.5 2.5l-.94 2.06-2.06.94zm10 10l.94 2.06.94-2.06 2.06-.94-2.06-.94-.94-2.06-.94 2.06-2.06.94z\"/><path d=\"M17.41 7.96l-1.37-1.37c-.4-.4-.92-.59-1.43-.59-.52 0-1.04.2-1.43.59L10.3 9.45l-7.72 7.72c-.78.78-.78 2.05 0 2.83L4 21.41c.39.39.9.59 1.41.59.51 0 1.02-.2 1.41-.59l7.78-7.78 2.81-2.81c.8-.78.8-2.07 0-2.86zM5.41 20L4 18.59l7.72-7.72 1.47 1.35L5.41 20z\"/>\n",
              "  </svg>\n",
              "      </button>\n",
              "      \n",
              "  <style>\n",
              "    .colab-df-container {\n",
              "      display:flex;\n",
              "      flex-wrap:wrap;\n",
              "      gap: 12px;\n",
              "    }\n",
              "\n",
              "    .colab-df-convert {\n",
              "      background-color: #E8F0FE;\n",
              "      border: none;\n",
              "      border-radius: 50%;\n",
              "      cursor: pointer;\n",
              "      display: none;\n",
              "      fill: #1967D2;\n",
              "      height: 32px;\n",
              "      padding: 0 0 0 0;\n",
              "      width: 32px;\n",
              "    }\n",
              "\n",
              "    .colab-df-convert:hover {\n",
              "      background-color: #E2EBFA;\n",
              "      box-shadow: 0px 1px 2px rgba(60, 64, 67, 0.3), 0px 1px 3px 1px rgba(60, 64, 67, 0.15);\n",
              "      fill: #174EA6;\n",
              "    }\n",
              "\n",
              "    [theme=dark] .colab-df-convert {\n",
              "      background-color: #3B4455;\n",
              "      fill: #D2E3FC;\n",
              "    }\n",
              "\n",
              "    [theme=dark] .colab-df-convert:hover {\n",
              "      background-color: #434B5C;\n",
              "      box-shadow: 0px 1px 3px 1px rgba(0, 0, 0, 0.15);\n",
              "      filter: drop-shadow(0px 1px 2px rgba(0, 0, 0, 0.3));\n",
              "      fill: #FFFFFF;\n",
              "    }\n",
              "  </style>\n",
              "\n",
              "      <script>\n",
              "        const buttonEl =\n",
              "          document.querySelector('#df-7370cc16-735b-4102-beb7-61ff8b9f043e button.colab-df-convert');\n",
              "        buttonEl.style.display =\n",
              "          google.colab.kernel.accessAllowed ? 'block' : 'none';\n",
              "\n",
              "        async function convertToInteractive(key) {\n",
              "          const element = document.querySelector('#df-7370cc16-735b-4102-beb7-61ff8b9f043e');\n",
              "          const dataTable =\n",
              "            await google.colab.kernel.invokeFunction('convertToInteractive',\n",
              "                                                     [key], {});\n",
              "          if (!dataTable) return;\n",
              "\n",
              "          const docLinkHtml = 'Like what you see? Visit the ' +\n",
              "            '<a target=\"_blank\" href=https://colab.research.google.com/notebooks/data_table.ipynb>data table notebook</a>'\n",
              "            + ' to learn more about interactive tables.';\n",
              "          element.innerHTML = '';\n",
              "          dataTable['output_type'] = 'display_data';\n",
              "          await google.colab.output.renderOutput(dataTable, element);\n",
              "          const docLink = document.createElement('div');\n",
              "          docLink.innerHTML = docLinkHtml;\n",
              "          element.appendChild(docLink);\n",
              "        }\n",
              "      </script>\n",
              "    </div>\n",
              "  </div>\n",
              "  "
            ]
          },
          "metadata": {},
          "execution_count": 129
        }
      ]
    },
    {
      "cell_type": "code",
      "source": [
        "df.drop(df.loc[df[\"workclass\"] == \"Without-pay\"].index, inplace=True)\n",
        "df[\"workclass\"].value_counts()"
      ],
      "metadata": {
        "colab": {
          "base_uri": "https://localhost:8080/"
        },
        "id": "3y4gj_c1Jsuq",
        "outputId": "f763dd0d-1e2a-4cc2-8fe8-5027f2a7fcb9"
      },
      "execution_count": 130,
      "outputs": [
        {
          "output_type": "execute_result",
          "data": {
            "text/plain": [
              "Private             25665\n",
              "Government           6176\n",
              "Self-emp-not-inc     3662\n",
              "Nan                  2279\n",
              "Self-emp-inc         1608\n",
              "Never-worked           10\n",
              "Name: workclass, dtype: int64"
            ]
          },
          "metadata": {},
          "execution_count": 130
        }
      ]
    },
    {
      "cell_type": "code",
      "source": [
        "df.drop(df.loc[df[\"workclass\"] == \"Never-worked\"].index, inplace=True)\n",
        "df[\"workclass\"].value_counts()"
      ],
      "metadata": {
        "colab": {
          "base_uri": "https://localhost:8080/"
        },
        "id": "R5E0v2uf6x7K",
        "outputId": "aa8c2db1-e305-4dc0-9af8-1aabf32e6af9"
      },
      "execution_count": 131,
      "outputs": [
        {
          "output_type": "execute_result",
          "data": {
            "text/plain": [
              "Private             25665\n",
              "Government           6176\n",
              "Self-emp-not-inc     3662\n",
              "Nan                  2279\n",
              "Self-emp-inc         1608\n",
              "Name: workclass, dtype: int64"
            ]
          },
          "metadata": {},
          "execution_count": 131
        }
      ]
    },
    {
      "cell_type": "code",
      "source": [
        "df = df.rename(columns={\"native-country\":\"native-continent\"})\n",
        "df.head()"
      ],
      "metadata": {
        "colab": {
          "base_uri": "https://localhost:8080/",
          "height": 354
        },
        "id": "SZwfgP-kOxRx",
        "outputId": "7de0dcea-7034-4489-e883-c4f0e5656ed7"
      },
      "execution_count": 132,
      "outputs": [
        {
          "output_type": "execute_result",
          "data": {
            "text/plain": [
              "   age   workclass     education      marital-status         occupation  \\\n",
              "0   25     Private          11th       Never-married  Machine-op-inspct   \n",
              "1   38     Private       HS-grad  Married-civ-spouse    Farming-fishing   \n",
              "2   28  Government    Assoc-acdm  Married-civ-spouse    Protective-serv   \n",
              "3   44     Private  Some-college  Married-civ-spouse  Machine-op-inspct   \n",
              "4   18         Nan  Some-college       Never-married                  ?   \n",
              "\n",
              "    race  gender  hours-per-week native-continent income  \n",
              "0  Black    Male              40    United-States  <=50K  \n",
              "1  White    Male              50    United-States  <=50K  \n",
              "2  White    Male              40    United-States   >50K  \n",
              "3  Black    Male              40    United-States   >50K  \n",
              "4  White  Female              30    United-States  <=50K  "
            ],
            "text/html": [
              "\n",
              "  <div id=\"df-4230e5aa-ab95-4af7-ba14-1fe44b0f2cee\">\n",
              "    <div class=\"colab-df-container\">\n",
              "      <div>\n",
              "<style scoped>\n",
              "    .dataframe tbody tr th:only-of-type {\n",
              "        vertical-align: middle;\n",
              "    }\n",
              "\n",
              "    .dataframe tbody tr th {\n",
              "        vertical-align: top;\n",
              "    }\n",
              "\n",
              "    .dataframe thead th {\n",
              "        text-align: right;\n",
              "    }\n",
              "</style>\n",
              "<table border=\"1\" class=\"dataframe\">\n",
              "  <thead>\n",
              "    <tr style=\"text-align: right;\">\n",
              "      <th></th>\n",
              "      <th>age</th>\n",
              "      <th>workclass</th>\n",
              "      <th>education</th>\n",
              "      <th>marital-status</th>\n",
              "      <th>occupation</th>\n",
              "      <th>race</th>\n",
              "      <th>gender</th>\n",
              "      <th>hours-per-week</th>\n",
              "      <th>native-continent</th>\n",
              "      <th>income</th>\n",
              "    </tr>\n",
              "  </thead>\n",
              "  <tbody>\n",
              "    <tr>\n",
              "      <th>0</th>\n",
              "      <td>25</td>\n",
              "      <td>Private</td>\n",
              "      <td>11th</td>\n",
              "      <td>Never-married</td>\n",
              "      <td>Machine-op-inspct</td>\n",
              "      <td>Black</td>\n",
              "      <td>Male</td>\n",
              "      <td>40</td>\n",
              "      <td>United-States</td>\n",
              "      <td>&lt;=50K</td>\n",
              "    </tr>\n",
              "    <tr>\n",
              "      <th>1</th>\n",
              "      <td>38</td>\n",
              "      <td>Private</td>\n",
              "      <td>HS-grad</td>\n",
              "      <td>Married-civ-spouse</td>\n",
              "      <td>Farming-fishing</td>\n",
              "      <td>White</td>\n",
              "      <td>Male</td>\n",
              "      <td>50</td>\n",
              "      <td>United-States</td>\n",
              "      <td>&lt;=50K</td>\n",
              "    </tr>\n",
              "    <tr>\n",
              "      <th>2</th>\n",
              "      <td>28</td>\n",
              "      <td>Government</td>\n",
              "      <td>Assoc-acdm</td>\n",
              "      <td>Married-civ-spouse</td>\n",
              "      <td>Protective-serv</td>\n",
              "      <td>White</td>\n",
              "      <td>Male</td>\n",
              "      <td>40</td>\n",
              "      <td>United-States</td>\n",
              "      <td>&gt;50K</td>\n",
              "    </tr>\n",
              "    <tr>\n",
              "      <th>3</th>\n",
              "      <td>44</td>\n",
              "      <td>Private</td>\n",
              "      <td>Some-college</td>\n",
              "      <td>Married-civ-spouse</td>\n",
              "      <td>Machine-op-inspct</td>\n",
              "      <td>Black</td>\n",
              "      <td>Male</td>\n",
              "      <td>40</td>\n",
              "      <td>United-States</td>\n",
              "      <td>&gt;50K</td>\n",
              "    </tr>\n",
              "    <tr>\n",
              "      <th>4</th>\n",
              "      <td>18</td>\n",
              "      <td>Nan</td>\n",
              "      <td>Some-college</td>\n",
              "      <td>Never-married</td>\n",
              "      <td>?</td>\n",
              "      <td>White</td>\n",
              "      <td>Female</td>\n",
              "      <td>30</td>\n",
              "      <td>United-States</td>\n",
              "      <td>&lt;=50K</td>\n",
              "    </tr>\n",
              "  </tbody>\n",
              "</table>\n",
              "</div>\n",
              "      <button class=\"colab-df-convert\" onclick=\"convertToInteractive('df-4230e5aa-ab95-4af7-ba14-1fe44b0f2cee')\"\n",
              "              title=\"Convert this dataframe to an interactive table.\"\n",
              "              style=\"display:none;\">\n",
              "        \n",
              "  <svg xmlns=\"http://www.w3.org/2000/svg\" height=\"24px\"viewBox=\"0 0 24 24\"\n",
              "       width=\"24px\">\n",
              "    <path d=\"M0 0h24v24H0V0z\" fill=\"none\"/>\n",
              "    <path d=\"M18.56 5.44l.94 2.06.94-2.06 2.06-.94-2.06-.94-.94-2.06-.94 2.06-2.06.94zm-11 1L8.5 8.5l.94-2.06 2.06-.94-2.06-.94L8.5 2.5l-.94 2.06-2.06.94zm10 10l.94 2.06.94-2.06 2.06-.94-2.06-.94-.94-2.06-.94 2.06-2.06.94z\"/><path d=\"M17.41 7.96l-1.37-1.37c-.4-.4-.92-.59-1.43-.59-.52 0-1.04.2-1.43.59L10.3 9.45l-7.72 7.72c-.78.78-.78 2.05 0 2.83L4 21.41c.39.39.9.59 1.41.59.51 0 1.02-.2 1.41-.59l7.78-7.78 2.81-2.81c.8-.78.8-2.07 0-2.86zM5.41 20L4 18.59l7.72-7.72 1.47 1.35L5.41 20z\"/>\n",
              "  </svg>\n",
              "      </button>\n",
              "      \n",
              "  <style>\n",
              "    .colab-df-container {\n",
              "      display:flex;\n",
              "      flex-wrap:wrap;\n",
              "      gap: 12px;\n",
              "    }\n",
              "\n",
              "    .colab-df-convert {\n",
              "      background-color: #E8F0FE;\n",
              "      border: none;\n",
              "      border-radius: 50%;\n",
              "      cursor: pointer;\n",
              "      display: none;\n",
              "      fill: #1967D2;\n",
              "      height: 32px;\n",
              "      padding: 0 0 0 0;\n",
              "      width: 32px;\n",
              "    }\n",
              "\n",
              "    .colab-df-convert:hover {\n",
              "      background-color: #E2EBFA;\n",
              "      box-shadow: 0px 1px 2px rgba(60, 64, 67, 0.3), 0px 1px 3px 1px rgba(60, 64, 67, 0.15);\n",
              "      fill: #174EA6;\n",
              "    }\n",
              "\n",
              "    [theme=dark] .colab-df-convert {\n",
              "      background-color: #3B4455;\n",
              "      fill: #D2E3FC;\n",
              "    }\n",
              "\n",
              "    [theme=dark] .colab-df-convert:hover {\n",
              "      background-color: #434B5C;\n",
              "      box-shadow: 0px 1px 3px 1px rgba(0, 0, 0, 0.15);\n",
              "      filter: drop-shadow(0px 1px 2px rgba(0, 0, 0, 0.3));\n",
              "      fill: #FFFFFF;\n",
              "    }\n",
              "  </style>\n",
              "\n",
              "      <script>\n",
              "        const buttonEl =\n",
              "          document.querySelector('#df-4230e5aa-ab95-4af7-ba14-1fe44b0f2cee button.colab-df-convert');\n",
              "        buttonEl.style.display =\n",
              "          google.colab.kernel.accessAllowed ? 'block' : 'none';\n",
              "\n",
              "        async function convertToInteractive(key) {\n",
              "          const element = document.querySelector('#df-4230e5aa-ab95-4af7-ba14-1fe44b0f2cee');\n",
              "          const dataTable =\n",
              "            await google.colab.kernel.invokeFunction('convertToInteractive',\n",
              "                                                     [key], {});\n",
              "          if (!dataTable) return;\n",
              "\n",
              "          const docLinkHtml = 'Like what you see? Visit the ' +\n",
              "            '<a target=\"_blank\" href=https://colab.research.google.com/notebooks/data_table.ipynb>data table notebook</a>'\n",
              "            + ' to learn more about interactive tables.';\n",
              "          element.innerHTML = '';\n",
              "          dataTable['output_type'] = 'display_data';\n",
              "          await google.colab.output.renderOutput(dataTable, element);\n",
              "          const docLink = document.createElement('div');\n",
              "          docLink.innerHTML = docLinkHtml;\n",
              "          element.appendChild(docLink);\n",
              "        }\n",
              "      </script>\n",
              "    </div>\n",
              "  </div>\n",
              "  "
            ]
          },
          "metadata": {},
          "execution_count": 132
        }
      ]
    },
    {
      "cell_type": "code",
      "source": [
        "df[\"education\"].value_counts() # This line of code reveals if this column has any error in the column values."
      ],
      "metadata": {
        "colab": {
          "base_uri": "https://localhost:8080/"
        },
        "id": "kD87GKfrBYoK",
        "outputId": "dc80af0d-4a76-4cf8-d5e2-59f6b40ff5af"
      },
      "execution_count": 133,
      "outputs": [
        {
          "output_type": "execute_result",
          "data": {
            "text/plain": [
              "HS-grad         11655\n",
              "Some-college     8433\n",
              "Bachelors        6340\n",
              "Masters          2362\n",
              "Assoc-voc        1894\n",
              "Assoc-acdm       1533\n",
              "11th             1532\n",
              "10th             1238\n",
              "7th-8th           917\n",
              "Prof-school       770\n",
              "9th               731\n",
              "12th              604\n",
              "Doctorate         565\n",
              "5th-6th           494\n",
              "1st-4th           241\n",
              "Preschool          81\n",
              "Name: education, dtype: int64"
            ]
          },
          "metadata": {},
          "execution_count": 133
        }
      ]
    },
    {
      "cell_type": "markdown",
      "source": [
        "- This block of code will reduce the school categories into more valuable analytical models."
      ],
      "metadata": {
        "id": "DS3-z_h8K8ld"
      }
    },
    {
      "cell_type": "code",
      "source": [
        "df[\"education\"] = df[\"education\"].replace(\"1st-4th\",\"Elementary\")\n",
        "df[\"education\"] = df[\"education\"].replace(\"5th-6th\",\"Elementary\")\n",
        "df[\"education\"] = df[\"education\"].replace(\"7th-8th\",\"Middle_School\")\n",
        "df[\"education\"] = df[\"education\"].replace(\"9th\", \"High_School\")\n",
        "df[\"education\"] = df[\"education\"].replace(\"10th\", \"High_School\")\n",
        "df[\"education\"] = df[\"education\"].replace(\"11th\", \"High_School\")\n",
        "df[\"education\"] = df[\"education\"].replace(\"12th\", \"High_School\")\n",
        "df[\"education\"] = df[\"education\"].replace(\"HS-grad\", \"High_School\")\n",
        "df[\"education\"] = df[\"education\"].replace(\"Assoc-acdm\", \"College\")\n",
        "df[\"education\"] = df[\"education\"].replace(\"Assoc-voc\", \"College\")\n",
        "df[\"education\"] = df[\"education\"].replace(\"Some-college\", \"College\")\n",
        "df[\"education\"].value_counts()"
      ],
      "metadata": {
        "colab": {
          "base_uri": "https://localhost:8080/"
        },
        "id": "a62Ze6otH0Iz",
        "outputId": "fc8bba8e-9533-43e6-a3ac-6785e493fd44"
      },
      "execution_count": 134,
      "outputs": [
        {
          "output_type": "execute_result",
          "data": {
            "text/plain": [
              "High_School      15760\n",
              "College          11860\n",
              "Bachelors         6340\n",
              "Masters           2362\n",
              "Middle_School      917\n",
              "Prof-school        770\n",
              "Elementary         735\n",
              "Doctorate          565\n",
              "Preschool           81\n",
              "Name: education, dtype: int64"
            ]
          },
          "metadata": {},
          "execution_count": 134
        }
      ]
    },
    {
      "cell_type": "code",
      "source": [
        "df[\"marital-status\"].value_counts() # this line of code reveals there are no value count errors in this column"
      ],
      "metadata": {
        "colab": {
          "base_uri": "https://localhost:8080/"
        },
        "id": "SsFojefoGXiS",
        "outputId": "840c4637-9a93-4f82-85ee-3e24a5576a6c"
      },
      "execution_count": 135,
      "outputs": [
        {
          "output_type": "execute_result",
          "data": {
            "text/plain": [
              "Married-civ-spouse       18069\n",
              "Never-married            11868\n",
              "Divorced                  5833\n",
              "Widowed                   1481\n",
              "Separated                 1478\n",
              "Married-spouse-absent      624\n",
              "Married-AF-spouse           37\n",
              "Name: marital-status, dtype: int64"
            ]
          },
          "metadata": {},
          "execution_count": 135
        }
      ]
    },
    {
      "cell_type": "code",
      "source": [
        "df[\"occupation\"].value_counts() # This line of code reveals if this column has any error in the column values."
      ],
      "metadata": {
        "colab": {
          "base_uri": "https://localhost:8080/"
        },
        "id": "S4n8MkssGeET",
        "outputId": "bceecbd4-4285-4c60-8995-c82c3dc46c36"
      },
      "execution_count": 136,
      "outputs": [
        {
          "output_type": "execute_result",
          "data": {
            "text/plain": [
              "Prof-specialty       5327\n",
              "Exec-managerial      4982\n",
              "Sales                4371\n",
              "Adm-clerical         4358\n",
              "Craft-repair         4272\n",
              "Other-service        4062\n",
              "?                    2279\n",
              "Machine-op-inspct    2272\n",
              "Transport-moving     1982\n",
              "Handlers-cleaners    1613\n",
              "Farming-fishing      1400\n",
              "Tech-support         1291\n",
              "Protective-serv       928\n",
              "Priv-house-serv       238\n",
              "Armed-Forces           15\n",
              "Name: occupation, dtype: int64"
            ]
          },
          "metadata": {},
          "execution_count": 136
        }
      ]
    },
    {
      "cell_type": "code",
      "source": [
        "df[\"occupation\"] = df[\"occupation\"].replace(\"?\",\"Nan\") # This line of code replaces the \"?\" with a Nan value to be imputed in later processes.\n",
        "df[\"occupation\"].value_counts()"
      ],
      "metadata": {
        "colab": {
          "base_uri": "https://localhost:8080/"
        },
        "id": "8hRT5IANPfzZ",
        "outputId": "97a5efb4-3b35-4904-97d0-94d54d8bbee8"
      },
      "execution_count": 137,
      "outputs": [
        {
          "output_type": "execute_result",
          "data": {
            "text/plain": [
              "Prof-specialty       5327\n",
              "Exec-managerial      4982\n",
              "Sales                4371\n",
              "Adm-clerical         4358\n",
              "Craft-repair         4272\n",
              "Other-service        4062\n",
              "Nan                  2279\n",
              "Machine-op-inspct    2272\n",
              "Transport-moving     1982\n",
              "Handlers-cleaners    1613\n",
              "Farming-fishing      1400\n",
              "Tech-support         1291\n",
              "Protective-serv       928\n",
              "Priv-house-serv       238\n",
              "Armed-Forces           15\n",
              "Name: occupation, dtype: int64"
            ]
          },
          "metadata": {},
          "execution_count": 137
        }
      ]
    },
    {
      "cell_type": "code",
      "source": [
        "df[\"race\"] = df[\"race\"].replace(\"Amer-Indian-Eskimo\",\"Other\")\n",
        "df[\"race\"] = df[\"race\"].replace(\"Asian-Pac-Islander\",\"Other\")\n",
        "df[\"race\"] = df[\"race\"].replace(\"Black\",\"Other\")\n",
        "df[\"race\"].value_counts() # This line of code reveals if this column has any error in the column values."
      ],
      "metadata": {
        "colab": {
          "base_uri": "https://localhost:8080/"
        },
        "id": "paF0IsXoP_TD",
        "outputId": "2f03088f-6195-469f-ccef-608ab72cdaff"
      },
      "execution_count": 138,
      "outputs": [
        {
          "output_type": "execute_result",
          "data": {
            "text/plain": [
              "White    32625\n",
              "Other     6765\n",
              "Name: race, dtype: int64"
            ]
          },
          "metadata": {},
          "execution_count": 138
        }
      ]
    },
    {
      "cell_type": "code",
      "source": [
        "df[\"gender\"].value_counts() # This line of code reveals if this column has any error in the column values."
      ],
      "metadata": {
        "colab": {
          "base_uri": "https://localhost:8080/"
        },
        "id": "r0bTmTrZQrzQ",
        "outputId": "e50a3655-5d92-45b6-81f6-5e0889dbee1b"
      },
      "execution_count": 139,
      "outputs": [
        {
          "output_type": "execute_result",
          "data": {
            "text/plain": [
              "Male      25980\n",
              "Female    13410\n",
              "Name: gender, dtype: int64"
            ]
          },
          "metadata": {},
          "execution_count": 139
        }
      ]
    },
    {
      "cell_type": "code",
      "source": [
        "df[\"hours-per-week\"].values # This line of code reveals if this column has any error in the column values."
      ],
      "metadata": {
        "colab": {
          "base_uri": "https://localhost:8080/"
        },
        "id": "2NXJe_RJQ0UQ",
        "outputId": "b8092af6-e632-4b74-bf03-a1514d912dd0"
      },
      "execution_count": 140,
      "outputs": [
        {
          "output_type": "execute_result",
          "data": {
            "text/plain": [
              "array([40, 50, 40, ..., 38, 40, 40])"
            ]
          },
          "metadata": {},
          "execution_count": 140
        }
      ]
    },
    {
      "cell_type": "code",
      "source": [
        "df[\"native-continent\"].value_counts() # This line of code reveals if this column has any error in the column values."
      ],
      "metadata": {
        "colab": {
          "base_uri": "https://localhost:8080/"
        },
        "id": "SugKEtGqQ-mb",
        "outputId": "5cb5f067-18d0-49ad-8b36-ee8eb682ce78"
      },
      "execution_count": 141,
      "outputs": [
        {
          "output_type": "execute_result",
          "data": {
            "text/plain": [
              "United-States                 34435\n",
              "Mexico                          919\n",
              "?                               850\n",
              "Philippines                     290\n",
              "Germany                         204\n",
              "Puerto-Rico                     184\n",
              "Canada                          182\n",
              "El-Salvador                     154\n",
              "India                           151\n",
              "Cuba                            138\n",
              "England                         127\n",
              "China                           122\n",
              "South                           115\n",
              "Jamaica                         105\n",
              "Italy                           104\n",
              "Dominican-Republic              102\n",
              "Japan                            92\n",
              "Poland                           87\n",
              "Guatemala                        86\n",
              "Vietnam                          85\n",
              "Columbia                         85\n",
              "Haiti                            75\n",
              "Portugal                         67\n",
              "Taiwan                           64\n",
              "Iran                             59\n",
              "Greece                           49\n",
              "Nicaragua                        49\n",
              "Peru                             46\n",
              "Ecuador                          45\n",
              "France                           38\n",
              "Ireland                          36\n",
              "Hong                             30\n",
              "Thailand                         30\n",
              "Cambodia                         28\n",
              "Trinadad&Tobago                  27\n",
              "Laos                             23\n",
              "Yugoslavia                       23\n",
              "Outlying-US(Guam-USVI-etc)       23\n",
              "Scotland                         21\n",
              "Honduras                         20\n",
              "Hungary                          19\n",
              "Holand-Netherlands                1\n",
              "Name: native-continent, dtype: int64"
            ]
          },
          "metadata": {},
          "execution_count": 141
        }
      ]
    },
    {
      "cell_type": "code",
      "source": [
        "df[\"native-continent\"] = df[\"native-continent\"].replace(\"?\",\"Nan\") # This line of code replaces the \"?\" with a Nan value to be imputed in later processes.\n",
        "df[\"native-continent\"] = df[\"native-continent\"].replace(\"United-States\",\"North_America\")\n",
        "df[\"native-continent\"] = df[\"native-continent\"].replace(\"Mexico\",\"North_America\")\n",
        "df[\"native-continent\"] = df[\"native-continent\"].replace(\"Canada\",\"North_America\")\n",
        "df[\"native-continent\"] = df[\"native-continent\"].replace(\"Puerto-Rico\",\"North_America\")\n",
        "df[\"native-continent\"] = df[\"native-continent\"].replace(\"Outlying-US(Guam-USVI-etc)\",\"North_America\")\n",
        "\n",
        "df[\"native-continent\"] = df[\"native-continent\"].replace(\"El-Salvador\",\"Central_America\")\n",
        "df[\"native-continent\"] = df[\"native-continent\"].replace(\"Guatemala\",\"Central_America\")\n",
        "df[\"native-continent\"] = df[\"native-continent\"].replace(\"Honduras\",\"Central_America\")\n",
        "df[\"native-continent\"] = df[\"native-continent\"].replace(\"Cuba\",\"Carribean\")\n",
        "df[\"native-continent\"] = df[\"native-continent\"].replace(\"Jamaica\",\"Carribean\")\n",
        "df[\"native-continent\"] = df[\"native-continent\"].replace(\"Dominican-Republic\",\"Carribean\")\n",
        "df[\"native-continent\"] = df[\"native-continent\"].replace(\"Trinidad&Tobago\",\"Carribean\")\n",
        "df[\"native-continent\"] = df[\"native-continent\"].replace(\"Trinadad&Tobago\",\"Carribean\")\n",
        "df[\"native-continent\"] = df[\"native-continent\"].replace(\"Haiti\",\"Carribean\")\n",
        "\n",
        "df[\"native-continent\"] = df[\"native-continent\"].replace(\"Columbia\",\"South_America\")\n",
        "df[\"native-continent\"] = df[\"native-continent\"].replace(\"Peru\",\"South_America\")\n",
        "df[\"native-continent\"] = df[\"native-continent\"].replace(\"Ecuador\",\"South_America\")\n",
        "df[\"native-continent\"] = df[\"native-continent\"].replace(\"Nicaragua\",\"South_America\")\n",
        "\n",
        "df[\"native-continent\"] = df[\"native-continent\"].replace(\"Germany\",\"Europe\")\n",
        "df[\"native-continent\"] = df[\"native-continent\"].replace(\"England\",\"Europe\")\n",
        "df[\"native-continent\"] = df[\"native-continent\"].replace(\"Poland\",\"Europe\")\n",
        "df[\"native-continent\"] = df[\"native-continent\"].replace(\"Portugal\",\"Europe\")\n",
        "df[\"native-continent\"] = df[\"native-continent\"].replace(\"Italy\",\"Europe\")\n",
        "df[\"native-continent\"] = df[\"native-continent\"].replace(\"France\",\"Europe\")\n",
        "df[\"native-continent\"] = df[\"native-continent\"].replace(\"Ireland\",\"Europe\")\n",
        "df[\"native-continent\"] = df[\"native-continent\"].replace(\"Yugoslavia\",\"Europe\")\n",
        "df[\"native-continent\"] = df[\"native-continent\"].replace(\"Scotland\",\"Europe\")\n",
        "df[\"native-continent\"] = df[\"native-continent\"].replace(\"Hungary\",\"Europe\")\n",
        "df[\"native-continent\"] = df[\"native-continent\"].replace(\"Holand-Netherlands\",\"Europe\")\n",
        "\n",
        "df[\"native-continent\"] = df[\"native-continent\"].replace(\"Philippines\",\"Asia\")\n",
        "df[\"native-continent\"] = df[\"native-continent\"].replace(\"India\",\"Asia\")\n",
        "df[\"native-continent\"] = df[\"native-continent\"].replace(\"China\",\"Asia\")\n",
        "df[\"native-continent\"] = df[\"native-continent\"].replace(\"Japan\",\"Asia\")\n",
        "df[\"native-continent\"] = df[\"native-continent\"].replace(\"Vietnam\",\"Asia\")\n",
        "df[\"native-continent\"] = df[\"native-continent\"].replace(\"Taiwan\",\"Asia\")\n",
        "df[\"native-continent\"] = df[\"native-continent\"].replace(\"Iran\",\"Asia\")\n",
        "df[\"native-continent\"] = df[\"native-continent\"].replace(\"Greece\",\"Asia\")\n",
        "df[\"native-continent\"] = df[\"native-continent\"].replace(\"Cambodia\",\"Asia\")\n",
        "df[\"native-continent\"] = df[\"native-continent\"].replace(\"Laos\",\"Asia\")\n",
        "df[\"native-continent\"] = df[\"native-continent\"].replace(\"Hong\",\"Asia\")\n",
        "df[\"native-continent\"] = df[\"native-continent\"].replace(\"Thailand\",\"Asia\")\n",
        "df[\"native-continent\"].value_counts()"
      ],
      "metadata": {
        "colab": {
          "base_uri": "https://localhost:8080/"
        },
        "id": "m-z_KgKFROzQ",
        "outputId": "ded3061b-38e9-46b8-b564-d3b4cb9d689a"
      },
      "execution_count": 142,
      "outputs": [
        {
          "output_type": "execute_result",
          "data": {
            "text/plain": [
              "North_America      35743\n",
              "Asia                1023\n",
              "Nan                  850\n",
              "Europe               727\n",
              "Carribean            447\n",
              "Central_America      260\n",
              "South_America        225\n",
              "South                115\n",
              "Name: native-continent, dtype: int64"
            ]
          },
          "metadata": {},
          "execution_count": 142
        }
      ]
    },
    {
      "cell_type": "code",
      "source": [
        "df[\"income\"].value_counts() # This line of code reveals if this column has any error in the column values."
      ],
      "metadata": {
        "colab": {
          "base_uri": "https://localhost:8080/"
        },
        "id": "LSYQoc6LZ9Uo",
        "outputId": "873ddc8c-69d9-4e8a-d9cf-d936d25c1cc4"
      },
      "execution_count": 143,
      "outputs": [
        {
          "output_type": "execute_result",
          "data": {
            "text/plain": [
              "<=50K    29808\n",
              ">50K      9582\n",
              "Name: income, dtype: int64"
            ]
          },
          "metadata": {},
          "execution_count": 143
        }
      ]
    },
    {
      "cell_type": "markdown",
      "source": [
        "# Produce Univariate Visuals for the Target and all Features."
      ],
      "metadata": {
        "id": "HjLQcs9CaOfI"
      }
    },
    {
      "cell_type": "code",
      "source": [
        "df.info() # this gives a concise look at all columns."
      ],
      "metadata": {
        "colab": {
          "base_uri": "https://localhost:8080/"
        },
        "id": "RvzekYtBaDBj",
        "outputId": "fb607302-05c9-49f4-fa8e-ef1716146985"
      },
      "execution_count": 144,
      "outputs": [
        {
          "output_type": "stream",
          "name": "stdout",
          "text": [
            "<class 'pandas.core.frame.DataFrame'>\n",
            "Int64Index: 39390 entries, 0 to 48841\n",
            "Data columns (total 10 columns):\n",
            " #   Column            Non-Null Count  Dtype \n",
            "---  ------            --------------  ----- \n",
            " 0   age               39390 non-null  int64 \n",
            " 1   workclass         39390 non-null  object\n",
            " 2   education         39390 non-null  object\n",
            " 3   marital-status    39390 non-null  object\n",
            " 4   occupation        39390 non-null  object\n",
            " 5   race              39390 non-null  object\n",
            " 6   gender            39390 non-null  object\n",
            " 7   hours-per-week    39390 non-null  int64 \n",
            " 8   native-continent  39390 non-null  object\n",
            " 9   income            39390 non-null  object\n",
            "dtypes: int64(2), object(8)\n",
            "memory usage: 3.3+ MB\n"
          ]
        }
      ]
    },
    {
      "cell_type": "markdown",
      "source": [
        "##This scatterplot displays a univariate visual of \"age\" feature."
      ],
      "metadata": {
        "id": "o6F0SsNLbhkM"
      }
    },
    {
      "cell_type": "code",
      "source": [
        "# sns.scatterplot(x=df.index,y=df[\"age\"], hue=df[\"age\"]); # This scatterplot displays a univariate visual of age feature"
      ],
      "metadata": {
        "id": "56Ev6ubmasI0"
      },
      "execution_count": 145,
      "outputs": []
    },
    {
      "cell_type": "code",
      "source": [
        "# sns.scatterplot(x=df.index,y=df[\"education\"], hue=df[\"education\"]);"
      ],
      "metadata": {
        "id": "1YEYyUxRd0vn"
      },
      "execution_count": 146,
      "outputs": []
    },
    {
      "cell_type": "code",
      "source": [
        "fig, ax = plt.subplots(figsize=(15,8))\n",
        "\n",
        "sns.scatterplot(df[\"workclass\"])\n",
        "\n",
        "ax.set_title(\"workclass\", fontsize = 15, loc=\"center\")\n",
        "ax.set_ylabel(\"workclass\", fontsize = 13)\n",
        "ax.set_xlabel(\"workclass\", fontsize = 13)\n",
        "plt.tick_params(axis=\"x\", which=\"major\", labelsize=12)\n",
        "plt.tick_params(axis=\"y\", which=\"major\", labelsize=10)\n",
        "ax.yaxis.tick_left() # where the y axis marks will be\n",
        "plt.yticks(rotation=30)\n",
        "\n",
        "ax.legend(loc=\"upper right\");"
      ],
      "metadata": {
        "colab": {
          "base_uri": "https://localhost:8080/",
          "height": 474
        },
        "id": "DIrYzIZihGKY",
        "outputId": "2214c772-31cf-4858-f925-62f5c2d791d7"
      },
      "execution_count": 147,
      "outputs": [
        {
          "output_type": "stream",
          "name": "stderr",
          "text": [
            "WARNING:matplotlib.legend:No artists with labels found to put in legend.  Note that artists whose label start with an underscore are ignored when legend() is called with no argument.\n"
          ]
        },
        {
          "output_type": "display_data",
          "data": {
            "text/plain": [
              "<Figure size 1500x800 with 1 Axes>"
            ],
            "image/png": "[encoded data removed]"
          },
          "metadata": {}
        }
      ]
    },
    {
      "cell_type": "code",
      "source": [
        "sns.violinplot(x=df[\"hours-per-week\"]); # This line of code provides a univariate plot for \"hours of the week\"."
      ],
      "metadata": {
        "colab": {
          "base_uri": "https://localhost:8080/",
          "height": 449
        },
        "id": "pEmPUsttjSjg",
        "outputId": "8e4e0ec3-7c27-46e0-af9d-a87e42cd31b4"
      },
      "execution_count": 148,
      "outputs": [
        {
          "output_type": "display_data",
          "data": {
            "text/plain": [
              "<Figure size 640x480 with 1 Axes>"
            ],
            "image/png": "[encoded data removed]"
          },
          "metadata": {}
        }
      ]
    },
    {
      "cell_type": "code",
      "source": [
        "sns.histplot(x=\"race\", data=df); # This line of code provides a univariate visual for this value"
      ],
      "metadata": {
        "colab": {
          "base_uri": "https://localhost:8080/",
          "height": 449
        },
        "id": "hdyTHdqafCPM",
        "outputId": "ed1056f2-a46f-400b-80ab-27785263434b"
      },
      "execution_count": 149,
      "outputs": [
        {
          "output_type": "display_data",
          "data": {
            "text/plain": [
              "<Figure size 640x480 with 1 Axes>"
            ],
            "image/png": "[encoded data removed]"
          },
          "metadata": {}
        }
      ]
    },
    {
      "cell_type": "code",
      "source": [
        "sns.histplot(x=\"gender\", data=df); # This line of code provides a univariate visual for this value"
      ],
      "metadata": {
        "colab": {
          "base_uri": "https://localhost:8080/",
          "height": 449
        },
        "id": "-4qm6l90fDmR",
        "outputId": "2e952430-d7a2-4afa-f099-7ab3522233e2"
      },
      "execution_count": 150,
      "outputs": [
        {
          "output_type": "display_data",
          "data": {
            "text/plain": [
              "<Figure size 640x480 with 1 Axes>"
            ],
            "image/png": "[encoded data removed]"
          },
          "metadata": {}
        }
      ]
    },
    {
      "cell_type": "code",
      "source": [
        "sns.histplot(x=\"native-continent\", data=df);\n",
        "plt.xticks(rotation=90, ha='right') # This line of code provides a univariate visual for this value\n",
        "fig.tight_layout()  \n",
        "plt.show()"
      ],
      "metadata": {
        "colab": {
          "base_uri": "https://localhost:8080/",
          "height": 551
        },
        "id": "71qL87vHfKGQ",
        "outputId": "1581ec50-9f32-44c3-a937-057d06eee64c"
      },
      "execution_count": 151,
      "outputs": [
        {
          "output_type": "display_data",
          "data": {
            "text/plain": [
              "<Figure size 640x480 with 1 Axes>"
            ],
            "image/png": "[encoded data removed]"
          },
          "metadata": {}
        }
      ]
    },
    {
      "cell_type": "code",
      "source": [
        "sns.histplot(x=\"income\", data=df); # This line of code provides a univariate visual for this value"
      ],
      "metadata": {
        "colab": {
          "base_uri": "https://localhost:8080/",
          "height": 449
        },
        "id": "KDhy9YEbfMiv",
        "outputId": "697ddada-edbc-4ad7-9705-2ed147d59844"
      },
      "execution_count": 152,
      "outputs": [
        {
          "output_type": "display_data",
          "data": {
            "text/plain": [
              "<Figure size 640x480 with 1 Axes>"
            ],
            "image/png": "[encoded data removed]"
          },
          "metadata": {}
        }
      ]
    },
    {
      "cell_type": "code",
      "source": [
        "sns.histplot(x=\"marital-status\", data=df);\n",
        "plt.xticks(rotation=90, ha='right')\n",
        "fig.tight_layout()  # This line of code provides a univariate visual for this value\n",
        "plt.show()"
      ],
      "metadata": {
        "colab": {
          "base_uri": "https://localhost:8080/",
          "height": 595
        },
        "id": "gkXBW17wfPh-",
        "outputId": "169894c3-c964-4a08-df5d-05167079a3fa"
      },
      "execution_count": 153,
      "outputs": [
        {
          "output_type": "display_data",
          "data": {
            "text/plain": [
              "<Figure size 640x480 with 1 Axes>"
            ],
            "image/png": "[encoded data removed]"
          },
          "metadata": {}
        }
      ]
    },
    {
      "cell_type": "code",
      "source": [
        "sns.histplot(x=\"workclass\", data=df);\n",
        "plt.xticks(rotation=90, ha='right')\n",
        "fig.tight_layout()  \n",
        "plt.show() # This line of code provides a univariate visual for this value"
      ],
      "metadata": {
        "colab": {
          "base_uri": "https://localhost:8080/",
          "height": 549
        },
        "id": "vzKPnZh-g5zP",
        "outputId": "8b72129f-af32-4646-d7ef-b6fdcf1d8db6"
      },
      "execution_count": 154,
      "outputs": [
        {
          "output_type": "display_data",
          "data": {
            "text/plain": [
              "<Figure size 640x480 with 1 Axes>"
            ],
            "image/png": "[encoded data removed]"
          },
          "metadata": {}
        }
      ]
    },
    {
      "cell_type": "code",
      "source": [
        "sns.histplot(x=\"education\", data=df);\n",
        "plt.xticks(rotation=90, ha='right')\n",
        "fig.tight_layout()  \n",
        "plt.show() # This line of code provides a univariate visual for this value"
      ],
      "metadata": {
        "colab": {
          "base_uri": "https://localhost:8080/",
          "height": 534
        },
        "id": "7NQP2-aZg9bY",
        "outputId": "0cfc044e-4162-498a-a0b7-0a10b311e693"
      },
      "execution_count": 155,
      "outputs": [
        {
          "output_type": "display_data",
          "data": {
            "text/plain": [
              "<Figure size 640x480 with 1 Axes>"
            ],
            "image/png": "[encoded data removed]"
          },
          "metadata": {}
        }
      ]
    },
    {
      "cell_type": "code",
      "source": [
        "sns.histplot(x=\"occupation\", data=df);\n",
        "plt.xticks(rotation=90, ha='right')\n",
        "fig.tight_layout()  \n",
        "plt.show() # This line of code provides a univariate visual for this value"
      ],
      "metadata": {
        "colab": {
          "base_uri": "https://localhost:8080/",
          "height": 563
        },
        "id": "wswju1kWhJjJ",
        "outputId": "25e63dc5-e2ae-49ef-a1aa-e68806e9a1ce"
      },
      "execution_count": 156,
      "outputs": [
        {
          "output_type": "display_data",
          "data": {
            "text/plain": [
              "<Figure size 640x480 with 1 Axes>"
            ],
            "image/png": "[encoded data removed]"
          },
          "metadata": {}
        }
      ]
    },
    {
      "cell_type": "markdown",
      "source": [
        "#Identifying any moderate or strong correlations between your target and your features and/or between one feature and another using a correlation heatmap."
      ],
      "metadata": {
        "id": "jrP50ylYWkQX"
      }
    },
    {
      "cell_type": "code",
      "source": [
        "corr = df.corr(numeric_only = True)\n",
        "corr.round(2)\n",
        "fig, ax = plt.subplots(figsize=(10,10))\n",
        "sns.heatmap(corr, cmap = 'coolwarm', annot = True, ax=ax);"
      ],
      "metadata": {
        "id": "8k4XLERxhULs",
        "colab": {
          "base_uri": "https://localhost:8080/",
          "height": 836
        },
        "outputId": "8a21f4d4-03aa-4f6d-acd9-32cfecd080c6"
      },
      "execution_count": 157,
      "outputs": [
        {
          "output_type": "display_data",
          "data": {
            "text/plain": [
              "<Figure size 1000x1000 with 2 Axes>"
            ],
            "image/png": "[encoded data removed]"
          },
          "metadata": {}
        }
      ]
    },
    {
      "cell_type": "markdown",
      "source": [
        "##Choose two visualizations from your analysis that demonstrate key trends you found that will be of interest to a stakeholder. These visuals should be reporting quality with titles, labels, and a short explanation of the trend. Be sure to explain in a text cell the insight associated with each visual. Both of these visualizations should be easily understood by a non-technical audience"
      ],
      "metadata": {
        "id": "yya2RvDQZIN2"
      }
    },
    {
      "cell_type": "code",
      "source": [
        "#sns.scatterplot(data=df, x=\"income\", y=\"occupation\", hue=\"race\")\n",
        "#plt.show()"
      ],
      "metadata": {
        "id": "K06LWr_WWzqc"
      },
      "execution_count": 158,
      "outputs": []
    },
    {
      "cell_type": "markdown",
      "source": [
        "- This plot shows a correlation between race and income as related to occupation. This yields some interesting trends with regard to the occupations that have an income higher than 50k and which race and professions seem to occupy those most."
      ],
      "metadata": {
        "id": "mcRYug7MdGCl"
      }
    },
    {
      "cell_type": "code",
      "source": [
        "# sns.scatterplot(data=df, x=\"education\", y=\"race\", hue=\"race\")\n",
        "fig,ax = plt.subplots(figsize=(10,6))\n",
        "# \n",
        "sns.countplot(data=df, x=\"education\", hue=\"race\")\n",
        "plt.setp(ax.get_xticklabels(), rotation = 45)\n",
        "# display plots\n",
        "plt.show()\n",
        "plt.tight_layout();"
      ],
      "metadata": {
        "colab": {
          "base_uri": "https://localhost:8080/",
          "height": 565
        },
        "id": "aGIXe4pFXokW",
        "outputId": "11e8dcee-d6b0-4f91-97b8-2ac04058a648"
      },
      "execution_count": 159,
      "outputs": [
        {
          "output_type": "display_data",
          "data": {
            "text/plain": [
              "<Figure size 1000x600 with 1 Axes>"
            ],
            "image/png": "[encoded data removed]"
          },
          "metadata": {}
        },
        {
          "output_type": "display_data",
          "data": {
            "text/plain": [
              "<Figure size 640x480 with 0 Axes>"
            ]
          },
          "metadata": {}
        }
      ]
    },
    {
      "cell_type": "markdown",
      "source": [
        "## This visual shows a clear correlation between education and race as illustrated by the color bars."
      ],
      "metadata": {
        "id": "l0bqkgegdPj2"
      }
    },
    {
      "cell_type": "markdown",
      "source": [
        "- There appears to be a strong correlation between race and higher levels of education. This shows a disparity of an educational advantage favoring some race distinctions. This is an interesting trend to take note of."
      ],
      "metadata": {
        "id": "F_KxQeIcxowy"
      }
    },
    {
      "cell_type": "code",
      "source": [
        "fig, ax = plt.subplots(figsize=(8,8))\n",
        "\n",
        "bars = plt.bar(df[\"workclass\"], df[\"education\"])\n",
        "plt.setp(ax.get_xticklabels(), rotation = 45)\n",
        "plt.show()"
      ],
      "metadata": {
        "id": "03SYEWY6N6iF"
      },
      "execution_count": null,
      "outputs": []
    }
  ]
}